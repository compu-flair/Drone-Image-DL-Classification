{
  "cells": [
    {
      "cell_type": "markdown",
      "id": "ca5de27e",
      "metadata": {
        "id": "ca5de27e"
      },
      "source": [
        "# Review"
      ]
    },
    {
      "cell_type": "markdown",
      "id": "d4b67567",
      "metadata": {
        "id": "d4b67567"
      },
      "source": [
        "In the previous notebook (`2_model-training.ipynb`), we:\n",
        "\n",
        "1. Implemented our version of U-Net\n",
        "1. Setup model training loop\n",
        "1. Train the model\n",
        "1. Create an inferencing pipeline\n",
        "1. Make an inferencing from the trained model\n",
        "\n",
        "That was a lot of scripting on the previous module. In this module, we will rest our finger a bit and touch our analytical side, because we are going to do some experimentation!"
      ]
    },
    {
      "cell_type": "markdown",
      "id": "8a01ad72",
      "metadata": {
        "id": "8a01ad72"
      },
      "source": [
        "# Task 1: Initial Setup"
      ]
    },
    {
      "cell_type": "markdown",
      "id": "8008c26f",
      "metadata": {
        "id": "8008c26f"
      },
      "source": [
        "## Importing Libaries"
      ]
    },
    {
      "cell_type": "code",
      "execution_count": 1,
      "id": "tl7FSyRZjFu9",
      "metadata": {
        "colab": {
          "base_uri": "https://localhost:8080/"
        },
        "id": "tl7FSyRZjFu9",
        "outputId": "990afd64-84f4-4842-8c0e-211f91770153"
      },
      "outputs": [
        {
          "output_type": "stream",
          "name": "stdout",
          "text": [
            "Drive already mounted at /content/drive; to attempt to forcibly remount, call drive.mount(\"/content/drive\", force_remount=True).\n"
          ]
        }
      ],
      "source": [
        "from google.colab import drive\n",
        "drive.mount('/content/drive')"
      ]
    },
    {
      "cell_type": "code",
      "execution_count": 2,
      "id": "voyh3IHRjHag",
      "metadata": {
        "id": "voyh3IHRjHag"
      },
      "outputs": [],
      "source": [
        "import os\n",
        "\n",
        "\n",
        "notebook_path = os.path.join(os.getcwd())"
      ]
    },
    {
      "cell_type": "code",
      "execution_count": 3,
      "id": "whp0Rv_bjmau",
      "metadata": {
        "id": "whp0Rv_bjmau"
      },
      "outputs": [],
      "source": [
        "%%capture\n",
        "!pip install rasterio"
      ]
    },
    {
      "cell_type": "code",
      "execution_count": 4,
      "id": "54a577c1",
      "metadata": {
        "id": "54a577c1"
      },
      "outputs": [],
      "source": [
        "import os\n",
        "import sys\n",
        "from pathlib import Path\n",
        "\n",
        "# Import from your package\n",
        "sys.path.append(str(Path(notebook_path)))"
      ]
    },
    {
      "cell_type": "markdown",
      "id": "c199f34d",
      "metadata": {
        "id": "c199f34d"
      },
      "source": [
        "## Preparing Directories"
      ]
    },
    {
      "cell_type": "code",
      "execution_count": 5,
      "id": "cd6df980",
      "metadata": {
        "id": "cd6df980",
        "colab": {
          "base_uri": "https://localhost:8080/"
        },
        "outputId": "2b189bbf-7ba5-4b77-f2a0-be7111b3588f"
      },
      "outputs": [
        {
          "output_type": "stream",
          "name": "stdout",
          "text": [
            "Data directory: /content/nb/data\n",
            "Copied /content/drive/MyDrive/Drone-Image-DL-Classification to /content/nb/data\n",
            "Patch directory: /content/nb/data/2_patches\n",
            "Project directory: /content\n"
          ]
        }
      ],
      "source": [
        "import shutil\n",
        "from glob import glob\n",
        "\n",
        "NB_DIR = Path(notebook_path)\n",
        "PROJECT_DIR = NB_DIR\n",
        "\n",
        "DATA_DIR = os.path.join(PROJECT_DIR ,\"nb\", 'data')\n",
        "print(f\"Data directory: {DATA_DIR}\")\n",
        "RAW_DATA_DIR = os.path.join(DATA_DIR,'0_raw')\n",
        "INTERIM_DATA_DIR = os.path.join(DATA_DIR, '1_interim')\n",
        "PATCH_DIR = os.path.join(DATA_DIR , '2_patches')\n",
        "\n",
        "# Define source and destination directories\n",
        "dst_dir = str(DATA_DIR)\n",
        "src_dir = '/content/drive/MyDrive/Drone-Image-DL-Classification'\n",
        "src_dir\n",
        "# Copy the data directory to Google Drive\n",
        "shutil.copytree(src_dir, dst_dir, dirs_exist_ok=True)\n",
        "print(f\"Copied {src_dir} to {dst_dir}\")\n",
        "\n",
        "print(f'Patch directory: {PATCH_DIR}')\n",
        "\n",
        "print(f\"Project directory: {PROJECT_DIR}\")\n",
        "folder_list = [\n",
        "    DATA_DIR,\n",
        "    RAW_DATA_DIR,\n",
        "    INTERIM_DATA_DIR,\n",
        "    PATCH_DIR,\n",
        "]\n",
        "\n",
        "for folder in folder_list:\n",
        "    if not os.path.exists(folder):\n",
        "        os.makedirs(folder)\n",
        "\n",
        "RANDOM_SEED = 42"
      ]
    },
    {
      "cell_type": "markdown",
      "id": "NuYJhtKPiuvC",
      "metadata": {
        "id": "NuYJhtKPiuvC"
      },
      "source": [
        "## Requirements"
      ]
    },
    {
      "cell_type": "markdown",
      "id": "dx2SqYa0izy-",
      "metadata": {
        "id": "dx2SqYa0izy-"
      },
      "source": [
        "In this module, we will use MLFlow to track our experiments. If you are running it locally, everything is set for you. However, if you run it in google colab, you need to have an auth key from [**ngrok**](https://ngrok.com/).\n",
        "\n",
        "1. Visit this website<br>\n",
        "https://ngrok.com/\n",
        "2. You can sign up using your email, then sign in."
      ]
    },
    {
      "cell_type": "markdown",
      "id": "3046b432",
      "metadata": {
        "id": "3046b432"
      },
      "source": [
        "<img src=\"data:image/png;base64,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\" />"
      ]
    },
    {
      "cell_type": "markdown",
      "id": "qU-T9cqITyWF",
      "metadata": {
        "id": "qU-T9cqITyWF"
      },
      "source": [
        "3. After that, navigate to the \"Your Authtoken\" page\n",
        "4. Copy your authtoken\n",
        "5. Put it in the cell below inside the \" \"."
      ]
    },
    {
      "cell_type": "code",
      "execution_count": 6,
      "id": "tJ5kijWwwxU3",
      "metadata": {
        "id": "tJ5kijWwwxU3"
      },
      "outputs": [],
      "source": [
        "ngrok_auth = \"2w1BaaLxXberIIWJTPdBIGBUDC5_5fEbaS1fVwWpgaYSceA8E\" ## pyani account (test)"
      ]
    },
    {
      "cell_type": "markdown",
      "id": "5E8E9gNkXCLC",
      "metadata": {
        "id": "5E8E9gNkXCLC"
      },
      "source": [
        "**NOTE: THIS IS NOT A GOOD PRACTICE OF STORING CREDENTIAL SUCH AS AUTH TOKEN.<br>\n",
        "But for practicality, we will do it this way anyway.**"
      ]
    },
    {
      "cell_type": "markdown",
      "id": "1c_hfdiCXNVy",
      "metadata": {
        "id": "1c_hfdiCXNVy"
      },
      "source": [
        "**Reset Token**<br>\n",
        "Once you finish with this module, you should go back to the \"Your Authtoken\" page in ngrok dashboard, scroll down, and click \"Reset Authtoken\" to ensure your token is safe."
      ]
    },
    {
      "cell_type": "markdown",
      "id": "6c7e3229",
      "metadata": {
        "id": "6c7e3229"
      },
      "source": [
        "## Bringing DataLoader From Previous Notebook"
      ]
    },
    {
      "cell_type": "code",
      "source": [
        "import os\n",
        "from random import randint\n",
        "\n",
        "import albumentations as A\n",
        "import matplotlib.pyplot as plt\n",
        "import numpy as np\n",
        "import rasterio as rio\n",
        "import torch\n",
        "from sklearn.model_selection import train_test_split\n",
        "from torch.utils.data import DataLoader, Dataset\n",
        "\n",
        "\n",
        "class BuildingsDroneDataset(Dataset):\n",
        "    \"\"\"Dataset for building segmentation from drone imagery.\n",
        "\n",
        "    Args:\n",
        "        patch_dir (str): path to patch images folder (TIF format)\n",
        "        label_dir (str): path to label masks folder (TIF format)\n",
        "        augmentation (albumentations.Compose): data transformation pipeline\n",
        "        preprocessing (albumentations.Compose): data preprocessing\n",
        "    \"\"\"\n",
        "\n",
        "    def __init__(\n",
        "        self,\n",
        "        patch_dir,\n",
        "        label_dir,\n",
        "        augmentation=None,\n",
        "        preprocessing=None,\n",
        "    ):\n",
        "        # Get paths to all TIF files in the directories\n",
        "        self.patch_paths = [\n",
        "            os.path.join(patch_dir, file_name)\n",
        "            for file_name in sorted(os.listdir(patch_dir))\n",
        "            if file_name.endswith(\".tif\")\n",
        "        ]\n",
        "\n",
        "        self.label_paths = [\n",
        "            os.path.join(label_dir, file_name)\n",
        "            for file_name in sorted(os.listdir(label_dir))\n",
        "            if file_name.endswith(\".tif\")\n",
        "        ]\n",
        "\n",
        "        # Verify that we have matching number of patches and labels\n",
        "        assert len(self.patch_paths) == len(\n",
        "            self.label_paths\n",
        "        ), f\"Number of patches ({len(self.patch_paths)}) and labels ({len(self.label_paths)}) don't match\"\n",
        "\n",
        "        self.augmentation = augmentation\n",
        "        self.preprocessing = preprocessing\n",
        "\n",
        "    def __getitem__(self, i):\n",
        "        # Read TIF images using rasterio\n",
        "        with rio.open(self.patch_paths[i]) as patch_file:\n",
        "            # Read all bands and transpose to (channels, height, width)\n",
        "            patch = patch_file.read()\n",
        "            # Convert to (height, width, channels) for albumentations\n",
        "            patch = np.transpose(patch, (1, 2, 0))\n",
        "\n",
        "        with rio.open(self.label_paths[i]) as label_file:\n",
        "            # Assume mask is single channel\n",
        "            mask = label_file.read(1)\n",
        "\n",
        "        # Ensure mask has values 0 and 1 only\n",
        "        mask = (mask > 0).astype(np.float32)\n",
        "\n",
        "        # Apply augmentations\n",
        "        if self.augmentation:\n",
        "            sample = self.augmentation(image=patch, mask=mask)\n",
        "            patch, mask = sample[\"image\"], sample[\"mask\"]\n",
        "\n",
        "        # Apply preprocessing\n",
        "        if self.preprocessing:\n",
        "            sample = self.preprocessing(image=patch, mask=mask)\n",
        "            patch, mask = sample[\"image\"], sample[\"mask\"]\n",
        "\n",
        "        # Convert numpy arrays to PyTorch tensors\n",
        "        patch = torch.from_numpy(patch)\n",
        "        mask = torch.from_numpy(mask)\n",
        "\n",
        "        return patch, mask\n",
        "\n",
        "    def __len__(self):\n",
        "        return len(self.patch_paths)\n",
        "\n",
        "    def plot_pair(self, idx=None):\n",
        "        if idx is not None:\n",
        "            idx = idx\n",
        "        else:\n",
        "            idx = randint(0, len(self) - 1)\n",
        "        _, ax = plt.subplots(1, 2, figsize=(8, 4))\n",
        "\n",
        "        img, mask = self[idx]\n",
        "\n",
        "        # Convert tensors back to numpy for plotting\n",
        "        img = img.numpy()\n",
        "        mask = mask.numpy()\n",
        "\n",
        "        # Handle different dimensions based on preprocessing\n",
        "        if len(img.shape) == 3 and img.shape[0] == 3:  # CHW format\n",
        "            img = np.transpose(img, (1, 2, 0))  # Convert to HWC for plotting\n",
        "\n",
        "        ax[0].imshow(img)\n",
        "        ax[0].set_title(\"Drone Image\")\n",
        "\n",
        "        ax[1].imshow(mask, cmap=\"gray\")\n",
        "        ax[1].set_title(\"Building Mask\")\n",
        "\n",
        "        for a in ax:\n",
        "            a.set_xticks([])\n",
        "            a.set_yticks([])\n",
        "\n",
        "        plt.suptitle(f\"Sample {idx}\")\n",
        "        plt.tight_layout()\n",
        "\n",
        "\n",
        "def get_training_augmentation():\n",
        "    \"\"\"\n",
        "    Simple augmentation pipeline for drone imagery training data\n",
        "    \"\"\"\n",
        "    train_transform = [\n",
        "        # Basic spatial augmentations\n",
        "        A.HorizontalFlip(p=0.5),\n",
        "        A.VerticalFlip(p=0.5),\n",
        "        A.RandomRotate90(p=0.5),\n",
        "    ]\n",
        "    return A.Compose(train_transform)\n",
        "\n",
        "\n",
        "def get_preprocessing():\n",
        "    \"\"\"\n",
        "    Simple preprocessing function for drone imagery\n",
        "\n",
        "    Returns:\n",
        "        Preprocessing transform for normalization and channel reordering\n",
        "    \"\"\"\n",
        "\n",
        "    # Define regular functions instead of lambdas\n",
        "    def to_float_and_normalize(image, **kwargs):\n",
        "        return image.astype(np.float32) / 255.0\n",
        "\n",
        "    def transpose_to_chw(image, **kwargs):\n",
        "        return image.transpose(2, 0, 1)\n",
        "\n",
        "    def to_float32(mask, **kwargs):\n",
        "        return mask.astype(np.float32)\n",
        "\n",
        "    _transform = [\n",
        "        # Scale to [0,1] range\n",
        "        A.Lambda(image=to_float_and_normalize),\n",
        "        # Convert to PyTorch format (CHW)\n",
        "        A.Lambda(image=transpose_to_chw),\n",
        "        # Ensure mask is float32\n",
        "        A.Lambda(mask=to_float32),\n",
        "    ]\n",
        "    return A.Compose(_transform)\n",
        "\n",
        "\n",
        "def create_dataloaders(\n",
        "    patch_dir, label_dir, batch_size=8, val_split=0.2, random_state=42, num_workers=4\n",
        "):\n",
        "    \"\"\"\n",
        "    Create train and validation dataloaders\n",
        "\n",
        "    Args:\n",
        "        patch_dir: Directory containing image patches\n",
        "        label_dir: Directory containing label masks\n",
        "        batch_size: Batch size for dataloaders\n",
        "        val_split: Validation split ratio (0.0-1.0)\n",
        "        random_state: Random seed for reproducibility\n",
        "        num_workers: Number of workers for DataLoader\n",
        "\n",
        "    Returns:\n",
        "        train_loader, val_loader: DataLoader objects for training and validation\n",
        "    \"\"\"\n",
        "    # Create dataset with augmentation and preprocessing\n",
        "    dataset = BuildingsDroneDataset(\n",
        "        patch_dir=patch_dir,\n",
        "        label_dir=label_dir,\n",
        "        augmentation=get_training_augmentation(),\n",
        "        preprocessing=get_preprocessing(),\n",
        "    )\n",
        "\n",
        "    # Split dataset into training and validation\n",
        "    indices = list(range(len(dataset)))\n",
        "    train_indices, val_indices = train_test_split(\n",
        "        indices, test_size=val_split, random_state=random_state\n",
        "    )\n",
        "\n",
        "    # Create subset datasets\n",
        "    train_dataset = torch.utils.data.Subset(dataset, train_indices)\n",
        "    val_dataset = torch.utils.data.Subset(dataset, val_indices)\n",
        "\n",
        "    # Create DataLoaders\n",
        "    train_loader = DataLoader(\n",
        "        train_dataset, batch_size=batch_size, shuffle=True, num_workers=num_workers\n",
        "    )\n",
        "\n",
        "    val_loader = DataLoader(\n",
        "        val_dataset, batch_size=batch_size, shuffle=False, num_workers=num_workers\n",
        "    )\n",
        "\n",
        "    return train_loader, val_loader\n"
      ],
      "metadata": {
        "id": "LszO58g7HFM6"
      },
      "id": "LszO58g7HFM6",
      "execution_count": 7,
      "outputs": []
    },
    {
      "cell_type": "code",
      "source": [
        "PATCH_DIR"
      ],
      "metadata": {
        "colab": {
          "base_uri": "https://localhost:8080/",
          "height": 36
        },
        "id": "yj2yTs-LHMkP",
        "outputId": "961c52e8-f030-4185-8a16-74960ed73e9f"
      },
      "id": "yj2yTs-LHMkP",
      "execution_count": 8,
      "outputs": [
        {
          "output_type": "execute_result",
          "data": {
            "text/plain": [
              "'/content/nb/data/2_patches'"
            ],
            "application/vnd.google.colaboratory.intrinsic+json": {
              "type": "string"
            }
          },
          "metadata": {},
          "execution_count": 8
        }
      ]
    },
    {
      "cell_type": "code",
      "execution_count": 9,
      "id": "3bfbb3ba",
      "metadata": {
        "id": "3bfbb3ba"
      },
      "outputs": [],
      "source": [
        "# Create dataset with augmentation and preprocessing\n",
        "dataset = BuildingsDroneDataset(\n",
        "    patch_dir=os.path.join(PATCH_DIR,'patch'),\n",
        "    label_dir=os.path.join(PATCH_DIR,'label'),\n",
        ")"
      ]
    },
    {
      "cell_type": "code",
      "execution_count": 10,
      "id": "caf9178f",
      "metadata": {
        "id": "caf9178f"
      },
      "outputs": [],
      "source": [
        "# Create dataloaders\n",
        "train_loader, val_loader = create_dataloaders(\n",
        "    patch_dir=os.path.join(PATCH_DIR,'patch'),\n",
        "    label_dir=os.path.join(PATCH_DIR,'label'),\n",
        "    batch_size=2,\n",
        "    num_workers=1\n",
        ")"
      ]
    },
    {
      "cell_type": "markdown",
      "id": "73af845c",
      "metadata": {
        "id": "73af845c"
      },
      "source": [
        "# Introduction to Experimentation in Deep Learning\n",
        "\n",
        "Deep learning models are powerful but their performance depends heavily on the choices we make when setting up and training them. In this module, we'll explore the process of experimenting with our UNet model for drone image segmentation."
      ]
    },
    {
      "cell_type": "markdown",
      "id": "0ad314bc",
      "metadata": {
        "id": "0ad314bc"
      },
      "source": [
        "## Why experiment with hyperparameters?\n",
        "\n",
        "Hyperparameters are the \"knobs\" we can turn to control how our model learns. Unlike model parameters (weights and biases) which are learned during training, hyperparameters must be set before training begins. They include:\n",
        "\n",
        "- Learning rate\n",
        "- Optimizer choice\n",
        "- Batch size\n",
        "- Model architecture (depth, width)\n",
        "- Loss function\n",
        "- Regularization techniques\n",
        "\n",
        "Each deep learning task is unique, and there's rarely a one-size-fits-all configuration that works optimally for every problem. Finding the right hyperparameters often makes the difference between a model that performs poorly and one that achieves state-of-the-art results."
      ]
    },
    {
      "cell_type": "markdown",
      "id": "8c6ef6fa",
      "metadata": {
        "id": "8c6ef6fa"
      },
      "source": [
        "## The impact of hyperparameters on model performance\n",
        "\n",
        "Hyperparameters can dramatically influence:\n",
        "- **Training stability**: Too high learning rates can cause training to diverge, while too low rates can make training painfully slow.\n",
        "- **Generalization ability**: The right hyperparameters help the model learn meaningful patterns without overfitting to training data.\n",
        "- **Convergence speed**: Good hyperparameter choices can help models reach optimal performance in fewer training epochs.\n",
        "- **Final performance metrics**: The difference between average and excellent performance often comes down to hyperparameter tuning.\n",
        "\n",
        "For semantic segmentation tasks like ours, even small improvements in metrics like IoU or Dice score can translate to significantly better real-world performance in identifying buildings from drone imagery."
      ]
    },
    {
      "cell_type": "markdown",
      "id": "c3977778",
      "metadata": {
        "id": "c3977778"
      },
      "source": [
        "## Common pitfalls in deep learning experimentation\n",
        "\n",
        "When experimenting with deep learning models, watch out for these common issues:\n",
        "- **Poor experiment tracking**: Forgetting which configurations you've tried or what results they produced\n",
        "- **Changing multiple hyperparameters at once**: Makes it impossible to know which change was responsible for performance differences\n",
        "- **Overfitting to the validation set**: Making too many decisions based on validation performance can lead to indirect overfitting\n",
        "- **Ignoring computational constraints**: Some experiments might be theoretically interesting but practically infeasible\n",
        "- **Confirmation bias**: Tendency to focus on experiments that confirm our expectations"
      ]
    },
    {
      "cell_type": "markdown",
      "id": "bbd3ed4d",
      "metadata": {
        "id": "bbd3ed4d"
      },
      "source": [
        "## Different ways to track machine learning experiments\n",
        "There are as many different ways to track machine learning experiments as there are experiments to run.\n",
        "\n",
        "This table covers a few.\n",
        "\n",
        "| Method                                     | Setup                                      | Pros                                                                         | Cons                                                                     | Cost                  |\n",
        "|--------------------------------------------|--------------------------------------------|------------------------------------------------------------------------------|--------------------------------------------------------------------------|-----------------------|\n",
        "| Python dictionaries, CSV files, print outs | None                                       | Easy to setup, runs in pure Python                                           | Hard to keep track of large numbers of experiments                       | Free                  |\n",
        "| [TensorBoard](https://www.tensorflow.org/tensorboard/get_started)                                | Minimal, install [tensorboard](https://pypi.org/project/tensorboard/)               | Extensions built into PyTorch, widely recognized and used, easily scales.    | User-experience not as nice as other options.                            | Free                  |\n",
        "| [Weights & Biases Experiment Tracking](https://wandb.ai/site/experiment-tracking)       | Minimal, install [wandb](https://docs.wandb.ai/quickstart), make an account    | Incredible user experience, make experiments public, tracks almost anything. | Requires external resource outside of PyTorch.                           | Free for personal use |\n",
        "| [MLFlow](https://mlflow.org/)                                     | Minimal, install mlflow and start tracking | Fully open-source MLOps lifecycle management, many integrations.             | Little bit harder to setup a remote tracking server than other services. | Free                  |\n",
        "\n",
        "Taken from [learnpytorch.io](https://www.learnpytorch.io/07_pytorch_experiment_tracking/)"
      ]
    },
    {
      "cell_type": "markdown",
      "id": "01c64f39",
      "metadata": {
        "id": "01c64f39"
      },
      "source": [
        "## Setting up clear experimental goals\n",
        "\n",
        "Before we start experimenting, let's define what we're trying to achieve:\n",
        "- Primary goal: Understand how different optimizers (Adam vs. SGD) and learning rates affect our UNet model's performance on drone image segmentation\n",
        "- Success metrics: We'll measure:\n",
        "    - Validation Dice score\n",
        "    - Validation IoU\n",
        "    - Training convergence speed\n",
        "- Experimental approach: We'll use **MLflow** to:\n",
        "    - Track multiple training runs with different configurations\n",
        "    - Compare performance across runs\n",
        "    - Visualize training dynamics\n",
        "    - Make data-driven decisions about model configuration"
      ]
    },
    {
      "cell_type": "markdown",
      "id": "db1078d2",
      "metadata": {
        "id": "db1078d2"
      },
      "source": [
        "# Introduction to MLFlow"
      ]
    },
    {
      "cell_type": "markdown",
      "id": "486afa7f",
      "metadata": {
        "id": "486afa7f"
      },
      "source": [
        "## What is MLFlow and why use it?\n",
        "MLFlow is an open-source platform designed to manage the machine learning lifecycle, including experimentation, reproducibility, deployment, and a model registry. It was created to address the challenge of keeping track of experiments and managing models in ML projects.\n",
        "\n",
        "When working on deep learning projects, we often run dozens or even hundreds of experiments with different hyperparameters, model architectures, and data preprocessing techniques. Without a proper tracking system, it's easy to lose track of what we've tried and which configurations performed best.\n",
        "\n",
        "MLFlow solves this problem by providing a centralized system to:\n",
        "- Track experiments and compare results\n",
        "- Package code and models for reproducible runs\n",
        "- Share and deploy models\n",
        "- Manage model versions in a central repository"
      ]
    },
    {
      "cell_type": "markdown",
      "id": "298a8870",
      "metadata": {
        "id": "298a8870"
      },
      "source": [
        "## Key components of MLFlow\n",
        "MLFlow consists of four main components:\n",
        "1. MLFlow Tracking: Records and queries experiments, including code, data, configurations, and results\n",
        "    - Logs parameters, metrics, and artifacts for each experiment run\n",
        "    - Provides visualizations to compare runs\n",
        "    - Can be used locally or on a central server\n",
        "1. MLFlow Projects: Packages ML code in a reusable, reproducible form\n",
        "    - Standardizes how to run ML code\n",
        "    - Defines dependencies and entry points\n",
        "1. MLFlow Models: Package ML models in a standard format for deployment\n",
        "    - Makes it easy to move models to production\n",
        "    - Supports multiple \"flavors\" to deploy to different platforms\n",
        "1. Model Registry: Centralized model store to collaboratively manage model lifecycle\n",
        "    - Tracks model lineage and versions\n",
        "    - Handles transitions between stages (staging, production, etc.)\n",
        "\n",
        "For our experimentation with UNet, **we'll primarily use MLFlow Tracking to log and compare our different training runs** with various optimizers and learning rates."
      ]
    },
    {
      "cell_type": "markdown",
      "id": "233ac254",
      "metadata": {
        "id": "233ac254"
      },
      "source": [
        "## MLFlow Tracking: Automatic vs. Manual\n",
        "MLFlow provides two main approaches to tracking experiments:\n",
        "- Manual tracking - Explicitly calling mlflow.log_param(), mlflow.log_metric(), and other logging functions in your code\n",
        "- Automatic tracking - Using integrations with frameworks that automatically log parameters and metrics\n",
        "\n",
        "When using manual tracking, you need to explicitly log everything you want to track:\n",
        "\n",
        "```python\n",
        "import mlflow\n",
        "\n",
        "with mlflow.start_run():\n",
        "    mlflow.log_param(\"learning_rate\", 0.001)\n",
        "    mlflow.log_metric(\"accuracy\", 0.85)\n",
        "    # ... train model ...\n",
        "    mlflow.pytorch.log_model(model, \"model\")\n",
        "```\n",
        "\n",
        "While this approach gives you complete control, it requires more code and can be error-prone if you forget to log important information."
      ]
    },
    {
      "cell_type": "markdown",
      "id": "f5082d50",
      "metadata": {
        "id": "f5082d50"
      },
      "source": [
        "## From PyTorch to PyTorch Lightning\n",
        "In our previous module, we implemented the UNet architecture and training loop using pure PyTorch. This gave us complete control over the implementation details, but required us to manually handle training loops, device management, metric tracking, and more.\n",
        "\n",
        "[PyTorch Lightning](https://lightning.ai/docs/pytorch/stable/) is a lightweight wrapper around PyTorch that organizes PyTorch code to make it more maintainable while removing much of the boilerplate code associated with training deep learning models. It preserves the flexibility of PyTorch while providing a more structured approach to model development.\n",
        "\n",
        "Converting a PyTorch model to Lightning typically involves:\n",
        "1. Organizing code into a `LightningModule` class\n",
        "1. Moving the training, validation, and testing steps into specific methods\n",
        "1. Setting up configuration for optimizers and learning rate schedulers\n",
        "\n",
        "While this conversion process is valuable to learn, it's beyond the scope of our current module which focuses on experimentation. For your convenience, a Lightning implementation of our UNet model (`LightningUNet`) has already been created so we can focus on the experimentation aspects."
      ]
    },
    {
      "cell_type": "markdown",
      "id": "bb907e69",
      "metadata": {
        "id": "bb907e69"
      },
      "source": [
        "## PyTorch Lightning and MLFlow Integration\n",
        "PyTorch Lightning provides seamless integration with MLFlow through its logging system. When using a Lightning model with the MLFlow logger, many things are tracked automatically:\n",
        "- Model hyperparameters\n",
        "- Training and validation metrics at each epoch\n",
        "- Learning rate changes\n",
        "- System information\n",
        "\n",
        "This automatic tracking significantly reduces the amount of code we need to write and ensures consistent logging across experiments.\n",
        "\n",
        "Lightning handles this integration through the MLFlowLogger class, which we'll use to track our UNet experiments with different optimizers and learning rates.\n",
        "\n",
        "```python\n",
        "from lightning.pytorch.loggers import MLFlowLogger\n",
        "\n",
        "# Create a logger instance\n",
        "logger = MLFlowLogger(experiment_name=\"unet_segmentation\", run_name=\"adam_lr_0.001\")\n",
        "\n",
        "# Create a trainer with the logger\n",
        "trainer = L.Trainer(logger=logger, ...)\n",
        "\n",
        "# Train the model - metrics are logged automatically\n",
        "trainer.fit(model, train_dataloader, val_dataloader)\n",
        "```"
      ]
    },
    {
      "cell_type": "markdown",
      "id": "99d5592a",
      "metadata": {
        "id": "99d5592a"
      },
      "source": [
        "With this integration, we can focus on defining our experiments rather than worrying about the mechanics of tracking them.\n",
        "\n",
        "Now that we understand how Lightning and MLFlow work together, let's set up our experiments to compare different optimizers and learning rates for our UNet model."
      ]
    },
    {
      "cell_type": "markdown",
      "id": "86d1ce75",
      "metadata": {
        "id": "86d1ce75"
      },
      "source": [
        "# Task 2: Designing Experiments for UNet Semantic Segmentation"
      ]
    },
    {
      "cell_type": "markdown",
      "id": "c70c5ce0",
      "metadata": {
        "id": "c70c5ce0"
      },
      "source": [
        "## Identifying key hyperparameters to experiment with\n",
        "For learning purpose, we'll focus on two critical hyperparameters:\n",
        "- Optimizer type: Adam vs. SGD\n",
        "- Learning rate: Different values for each optimizer\n",
        "\n",
        "We choose only these metrics combination since training a deep learning model can take a while."
      ]
    },
    {
      "cell_type": "markdown",
      "id": "1d9e2734",
      "metadata": {
        "id": "1d9e2734"
      },
      "source": [
        "## Metrics to track for semantic segmentation tasks\n",
        "We'll track these key metrics:\n",
        "\n",
        "- Loss: Training and validation loss\n",
        "- Dice Coefficient: Measures overlap between predicted and ground truth masks\n",
        "- IoU (Intersection over Union): Another measure of segmentation quality"
      ]
    },
    {
      "cell_type": "markdown",
      "id": "171fdc7f",
      "metadata": {
        "id": "171fdc7f"
      },
      "source": [
        "## Implementing our experiment function"
      ]
    },
    {
      "cell_type": "code",
      "execution_count": 11,
      "id": "xnyLSxDjksW0",
      "metadata": {
        "id": "xnyLSxDjksW0",
        "colab": {
          "base_uri": "https://localhost:8080/"
        },
        "outputId": "67573cdc-705a-44a9-e1df-3a1577ab69da"
      },
      "outputs": [
        {
          "output_type": "stream",
          "name": "stdout",
          "text": [
            "Requirement already satisfied: lightning in /usr/local/lib/python3.12/dist-packages (2.5.4)\n",
            "Requirement already satisfied: PyYAML<8.0,>5.4 in /usr/local/lib/python3.12/dist-packages (from lightning) (6.0.2)\n",
            "Requirement already satisfied: fsspec<2027.0,>=2022.5.0 in /usr/local/lib/python3.12/dist-packages (from fsspec[http]<2027.0,>=2022.5.0->lightning) (2025.3.0)\n",
            "Requirement already satisfied: lightning-utilities<2.0,>=0.10.0 in /usr/local/lib/python3.12/dist-packages (from lightning) (0.15.2)\n",
            "Requirement already satisfied: packaging<27.0,>=20.0 in /usr/local/lib/python3.12/dist-packages (from lightning) (25.0)\n",
            "Requirement already satisfied: torch<4.0,>=2.1.0 in /usr/local/lib/python3.12/dist-packages (from lightning) (2.8.0+cu126)\n",
            "Requirement already satisfied: torchmetrics<3.0,>0.7.0 in /usr/local/lib/python3.12/dist-packages (from lightning) (1.8.1)\n",
            "Requirement already satisfied: tqdm<6.0,>=4.57.0 in /usr/local/lib/python3.12/dist-packages (from lightning) (4.67.1)\n",
            "Requirement already satisfied: typing-extensions<6.0,>4.5.0 in /usr/local/lib/python3.12/dist-packages (from lightning) (4.15.0)\n",
            "Requirement already satisfied: pytorch-lightning in /usr/local/lib/python3.12/dist-packages (from lightning) (2.5.4)\n",
            "Requirement already satisfied: aiohttp!=4.0.0a0,!=4.0.0a1 in /usr/local/lib/python3.12/dist-packages (from fsspec[http]<2027.0,>=2022.5.0->lightning) (3.12.15)\n",
            "Requirement already satisfied: setuptools in /usr/local/lib/python3.12/dist-packages (from lightning-utilities<2.0,>=0.10.0->lightning) (75.2.0)\n",
            "Requirement already satisfied: filelock in /usr/local/lib/python3.12/dist-packages (from torch<4.0,>=2.1.0->lightning) (3.19.1)\n",
            "Requirement already satisfied: sympy>=1.13.3 in /usr/local/lib/python3.12/dist-packages (from torch<4.0,>=2.1.0->lightning) (1.13.3)\n",
            "Requirement already satisfied: networkx in /usr/local/lib/python3.12/dist-packages (from torch<4.0,>=2.1.0->lightning) (3.5)\n",
            "Requirement already satisfied: jinja2 in /usr/local/lib/python3.12/dist-packages (from torch<4.0,>=2.1.0->lightning) (3.1.6)\n",
            "Requirement already satisfied: nvidia-cuda-nvrtc-cu12==12.6.77 in /usr/local/lib/python3.12/dist-packages (from torch<4.0,>=2.1.0->lightning) (12.6.77)\n",
            "Requirement already satisfied: nvidia-cuda-runtime-cu12==12.6.77 in /usr/local/lib/python3.12/dist-packages (from torch<4.0,>=2.1.0->lightning) (12.6.77)\n",
            "Requirement already satisfied: nvidia-cuda-cupti-cu12==12.6.80 in /usr/local/lib/python3.12/dist-packages (from torch<4.0,>=2.1.0->lightning) (12.6.80)\n",
            "Requirement already satisfied: nvidia-cudnn-cu12==9.10.2.21 in /usr/local/lib/python3.12/dist-packages (from torch<4.0,>=2.1.0->lightning) (9.10.2.21)\n",
            "Requirement already satisfied: nvidia-cublas-cu12==12.6.4.1 in /usr/local/lib/python3.12/dist-packages (from torch<4.0,>=2.1.0->lightning) (12.6.4.1)\n",
            "Requirement already satisfied: nvidia-cufft-cu12==11.3.0.4 in /usr/local/lib/python3.12/dist-packages (from torch<4.0,>=2.1.0->lightning) (11.3.0.4)\n",
            "Requirement already satisfied: nvidia-curand-cu12==10.3.7.77 in /usr/local/lib/python3.12/dist-packages (from torch<4.0,>=2.1.0->lightning) (10.3.7.77)\n",
            "Requirement already satisfied: nvidia-cusolver-cu12==11.7.1.2 in /usr/local/lib/python3.12/dist-packages (from torch<4.0,>=2.1.0->lightning) (11.7.1.2)\n",
            "Requirement already satisfied: nvidia-cusparse-cu12==12.5.4.2 in /usr/local/lib/python3.12/dist-packages (from torch<4.0,>=2.1.0->lightning) (12.5.4.2)\n",
            "Requirement already satisfied: nvidia-cusparselt-cu12==0.7.1 in /usr/local/lib/python3.12/dist-packages (from torch<4.0,>=2.1.0->lightning) (0.7.1)\n",
            "Requirement already satisfied: nvidia-nccl-cu12==2.27.3 in /usr/local/lib/python3.12/dist-packages (from torch<4.0,>=2.1.0->lightning) (2.27.3)\n",
            "Requirement already satisfied: nvidia-nvtx-cu12==12.6.77 in /usr/local/lib/python3.12/dist-packages (from torch<4.0,>=2.1.0->lightning) (12.6.77)\n",
            "Requirement already satisfied: nvidia-nvjitlink-cu12==12.6.85 in /usr/local/lib/python3.12/dist-packages (from torch<4.0,>=2.1.0->lightning) (12.6.85)\n",
            "Requirement already satisfied: nvidia-cufile-cu12==1.11.1.6 in /usr/local/lib/python3.12/dist-packages (from torch<4.0,>=2.1.0->lightning) (1.11.1.6)\n",
            "Requirement already satisfied: triton==3.4.0 in /usr/local/lib/python3.12/dist-packages (from torch<4.0,>=2.1.0->lightning) (3.4.0)\n",
            "Requirement already satisfied: numpy>1.20.0 in /usr/local/lib/python3.12/dist-packages (from torchmetrics<3.0,>0.7.0->lightning) (2.0.2)\n",
            "Requirement already satisfied: aiohappyeyeballs>=2.5.0 in /usr/local/lib/python3.12/dist-packages (from aiohttp!=4.0.0a0,!=4.0.0a1->fsspec[http]<2027.0,>=2022.5.0->lightning) (2.6.1)\n",
            "Requirement already satisfied: aiosignal>=1.4.0 in /usr/local/lib/python3.12/dist-packages (from aiohttp!=4.0.0a0,!=4.0.0a1->fsspec[http]<2027.0,>=2022.5.0->lightning) (1.4.0)\n",
            "Requirement already satisfied: attrs>=17.3.0 in /usr/local/lib/python3.12/dist-packages (from aiohttp!=4.0.0a0,!=4.0.0a1->fsspec[http]<2027.0,>=2022.5.0->lightning) (25.3.0)\n",
            "Requirement already satisfied: frozenlist>=1.1.1 in /usr/local/lib/python3.12/dist-packages (from aiohttp!=4.0.0a0,!=4.0.0a1->fsspec[http]<2027.0,>=2022.5.0->lightning) (1.7.0)\n",
            "Requirement already satisfied: multidict<7.0,>=4.5 in /usr/local/lib/python3.12/dist-packages (from aiohttp!=4.0.0a0,!=4.0.0a1->fsspec[http]<2027.0,>=2022.5.0->lightning) (6.6.4)\n",
            "Requirement already satisfied: propcache>=0.2.0 in /usr/local/lib/python3.12/dist-packages (from aiohttp!=4.0.0a0,!=4.0.0a1->fsspec[http]<2027.0,>=2022.5.0->lightning) (0.3.2)\n",
            "Requirement already satisfied: yarl<2.0,>=1.17.0 in /usr/local/lib/python3.12/dist-packages (from aiohttp!=4.0.0a0,!=4.0.0a1->fsspec[http]<2027.0,>=2022.5.0->lightning) (1.20.1)\n",
            "Requirement already satisfied: mpmath<1.4,>=1.1.0 in /usr/local/lib/python3.12/dist-packages (from sympy>=1.13.3->torch<4.0,>=2.1.0->lightning) (1.3.0)\n",
            "Requirement already satisfied: MarkupSafe>=2.0 in /usr/local/lib/python3.12/dist-packages (from jinja2->torch<4.0,>=2.1.0->lightning) (3.0.2)\n",
            "Requirement already satisfied: idna>=2.0 in /usr/local/lib/python3.12/dist-packages (from yarl<2.0,>=1.17.0->aiohttp!=4.0.0a0,!=4.0.0a1->fsspec[http]<2027.0,>=2022.5.0->lightning) (3.10)\n"
          ]
        }
      ],
      "source": [
        "# This install might take a while (3-5 minutes), this library is quite large\n",
        "\n",
        "# %%capture\n",
        "!pip install lightning"
      ]
    },
    {
      "cell_type": "code",
      "execution_count": 12,
      "id": "865fa28b",
      "metadata": {
        "id": "865fa28b"
      },
      "outputs": [],
      "source": [
        "import torch\n",
        "import lightning as L\n",
        "from lightning.pytorch.callbacks import EarlyStopping\n",
        "from lightning.pytorch.loggers.mlflow import MLFlowLogger"
      ]
    },
    {
      "cell_type": "code",
      "source": [
        "import torch\n",
        "import torch.nn as nn\n",
        "import torch.nn.functional as F\n",
        "import torch.optim as optim\n",
        "from tqdm import tqdm\n",
        "\n",
        "\n",
        "class DoubleConv(nn.Module):\n",
        "    \"\"\"\n",
        "    Double Convolution block: (Conv2d -> BatchNorm -> ReLU) x 2\n",
        "    This is used repeatedly throughout the U-Net architecture.\n",
        "    \"\"\"\n",
        "\n",
        "    def __init__(self, in_channels, out_channels):\n",
        "        super(DoubleConv, self).__init__()\n",
        "        self.double_conv = nn.Sequential(\n",
        "            # First convolution\n",
        "            # padding=1 to preserve spatial dimensions while extracting features\n",
        "            nn.Conv2d(in_channels, out_channels, kernel_size=3, padding=1),\n",
        "            # BatchNorm is added to help with training stability and potentially faster convergence\n",
        "            nn.BatchNorm2d(out_channels),\n",
        "            nn.ReLU(inplace=True),\n",
        "            # Second convolution\n",
        "            nn.Conv2d(out_channels, out_channels, kernel_size=3, padding=1),\n",
        "            nn.BatchNorm2d(out_channels),\n",
        "            nn.ReLU(inplace=True),\n",
        "        )\n",
        "\n",
        "    def forward(self, x):\n",
        "        return self.double_conv(x)\n",
        "\n",
        "\n",
        "class DownSamplingBlock(nn.Module):\n",
        "    \"\"\"\n",
        "    Downsampling block for the encoder path: MaxPool -> DoubleConv\n",
        "    \"\"\"\n",
        "\n",
        "    def __init__(self, in_channels, out_channels):\n",
        "        super(DownSamplingBlock, self).__init__()\n",
        "        self.maxpool = nn.MaxPool2d(kernel_size=2, stride=2)\n",
        "        self.double_conv = DoubleConv(in_channels, out_channels)\n",
        "\n",
        "    def forward(self, x):\n",
        "        x = self.maxpool(x)\n",
        "        x = self.double_conv(x)\n",
        "        return x\n",
        "\n",
        "\n",
        "class UpSamplingBlock(nn.Module):\n",
        "    \"\"\"\n",
        "    Upsampling block for the decoder path:\n",
        "    Upsample -> Concatenate with skip connection -> DoubleConv\n",
        "    \"\"\"\n",
        "\n",
        "    def __init__(self, in_channels, out_channels):\n",
        "        super(UpSamplingBlock, self).__init__()\n",
        "        # Transposed conv for upsampling\n",
        "        self.up = nn.ConvTranspose2d(in_channels, out_channels, kernel_size=2, stride=2)\n",
        "        # After concatenation, input channels will be doubled\n",
        "        self.double_conv = DoubleConv(in_channels, out_channels)\n",
        "\n",
        "    def forward(self, x, skip_connection):\n",
        "        x = self.up(x)\n",
        "\n",
        "        # Make sure dimensions match for concatenation\n",
        "        # Calculate padding if needed\n",
        "        diff_y = skip_connection.size()[2] - x.size()[2]\n",
        "        diff_x = skip_connection.size()[3] - x.size()[3]\n",
        "\n",
        "        # Pad if needed\n",
        "        if diff_y > 0 or diff_x > 0:\n",
        "            x = F.pad(\n",
        "                x,\n",
        "                [diff_x // 2, diff_x - diff_x // 2, diff_y // 2, diff_y - diff_y // 2],\n",
        "            )\n",
        "\n",
        "        # Concatenate along the channel dimension\n",
        "        x = torch.cat([skip_connection, x], dim=1)\n",
        "        x = self.double_conv(x)\n",
        "        return x\n",
        "\n",
        "\n",
        "class UNet(nn.Module):\n",
        "    \"\"\"\n",
        "    Complete U-Net architecture using modular building blocks.\n",
        "    \"\"\"\n",
        "\n",
        "    def __init__(self, in_channels=3, out_channels=1):\n",
        "        super(UNet, self).__init__()\n",
        "\n",
        "        # Initial double convolution\n",
        "        self.initial_conv = DoubleConv(in_channels, 64)\n",
        "\n",
        "        # Encoder (Downsampling) path\n",
        "        self.down1 = DownSamplingBlock(64, 128)\n",
        "        self.down2 = DownSamplingBlock(128, 256)\n",
        "        self.down3 = DownSamplingBlock(256, 512)\n",
        "        self.down4 = DownSamplingBlock(512, 1024)\n",
        "\n",
        "        # Decoder (Upsampling) path\n",
        "        self.up1 = UpSamplingBlock(1024, 512)\n",
        "        self.up2 = UpSamplingBlock(512, 256)\n",
        "        self.up3 = UpSamplingBlock(256, 128)\n",
        "        self.up4 = UpSamplingBlock(128, 64)\n",
        "\n",
        "        # Final output layer\n",
        "        self.out_conv = nn.Conv2d(64, out_channels, kernel_size=1)\n",
        "\n",
        "    def forward(self, x):\n",
        "        # Encode\n",
        "        x1 = self.initial_conv(x)\n",
        "        x2 = self.down1(x1)\n",
        "        x3 = self.down2(x2)\n",
        "        x4 = self.down3(x3)\n",
        "        x5 = self.down4(x4)\n",
        "\n",
        "        # Decode with skip connections\n",
        "        x = self.up1(x5, x4)\n",
        "        x = self.up2(x, x3)\n",
        "        x = self.up3(x, x2)\n",
        "        x = self.up4(x, x1)\n",
        "\n",
        "        # Final 1x1 convolution\n",
        "        output = self.out_conv(x)\n",
        "\n",
        "        return output\n",
        "\n",
        "\n",
        "# Define metrics functions\n",
        "class Metrics:\n",
        "    @staticmethod\n",
        "    def dice_coefficient(y_pred, y_true, smooth=1e-6):\n",
        "        \"\"\"\n",
        "        Calculate Dice coefficient\n",
        "\n",
        "        Args:\n",
        "            y_pred: Predicted masks, after sigmoid (B, 1, H, W)\n",
        "            y_true: Ground truth masks (B, 1, H, W)\n",
        "            smooth: Smoothing factor to avoid division by zero\n",
        "\n",
        "        Returns:\n",
        "            Dice coefficient (0-1, higher is better)\n",
        "        \"\"\"\n",
        "        # Flatten the tensors\n",
        "        y_pred = y_pred.view(-1)\n",
        "        y_true = y_true.view(-1)\n",
        "\n",
        "        intersection = (y_pred * y_true).sum()\n",
        "        dice = (2.0 * intersection + smooth) / (y_pred.sum() + y_true.sum() + smooth)\n",
        "\n",
        "        return dice.item()\n",
        "\n",
        "    @staticmethod\n",
        "    def iou_score(y_pred, y_true, smooth=1e-6):\n",
        "        \"\"\"\n",
        "        Calculate IoU score (Jaccard index)\n",
        "\n",
        "        Args:\n",
        "            y_pred: Predicted masks, after sigmoid (B, 1, H, W)\n",
        "            y_true: Ground truth masks (B, 1, H, W)\n",
        "            smooth: Smoothing factor to avoid division by zero\n",
        "\n",
        "        Returns:\n",
        "            IoU score (0-1, higher is better)\n",
        "        \"\"\"\n",
        "        # Flatten the tensors\n",
        "        y_pred = y_pred.view(-1)\n",
        "        y_true = y_true.view(-1)\n",
        "\n",
        "        intersection = (y_pred * y_true).sum()\n",
        "        total = (y_pred + y_true).sum()\n",
        "        union = total - intersection\n",
        "\n",
        "        iou = (intersection + smooth) / (union + smooth)\n",
        "\n",
        "        return iou.item()\n",
        "\n",
        "\n",
        "class UNetTrainer:\n",
        "    def __init__(\n",
        "        self,\n",
        "        model,\n",
        "        train_loader,\n",
        "        val_loader,\n",
        "        criterion=None,\n",
        "        optimizer=None,\n",
        "        device=None,\n",
        "        learning_rate=0.001,\n",
        "    ):\n",
        "        \"\"\"\n",
        "        Initialize the UNet trainer\n",
        "\n",
        "        Args:\n",
        "            model: UNet model instance\n",
        "            train_loader: Training data loader\n",
        "            val_loader: Validation data loader\n",
        "            criterion: Loss function (defaults to BCEWithLogitsLoss)\n",
        "            optimizer: Optimizer (defaults to Adam)\n",
        "            device: Device to use (defaults to GPU if available)\n",
        "            learning_rate: Learning rate for optimizer\n",
        "        \"\"\"\n",
        "        self.model = model\n",
        "        self.train_loader = train_loader\n",
        "        self.val_loader = val_loader\n",
        "\n",
        "        # Use GPU if available\n",
        "        self.device = (\n",
        "            device\n",
        "            if device\n",
        "            else torch.device(\"cuda\" if torch.cuda.is_available() else \"cpu\")\n",
        "        )\n",
        "        self.model = self.model.to(self.device)\n",
        "\n",
        "        # Default loss function\n",
        "        self.criterion = criterion if criterion else nn.BCEWithLogitsLoss()\n",
        "\n",
        "        # Default optimizer\n",
        "        self.optimizer = (\n",
        "            optimizer\n",
        "            if optimizer\n",
        "            else optim.Adam(self.model.parameters(), lr=learning_rate)\n",
        "        )\n",
        "\n",
        "        # History for tracking metrics\n",
        "        self.history = {\n",
        "            \"train_loss\": [],\n",
        "            \"train_dice\": [],\n",
        "            \"train_iou\": [],\n",
        "            \"val_loss\": [],\n",
        "            \"val_dice\": [],\n",
        "            \"val_iou\": [],\n",
        "        }\n",
        "\n",
        "        # Best validation score tracking\n",
        "        self.best_val_dice = 0.0\n",
        "\n",
        "    def train_epoch(self):\n",
        "        \"\"\"Run one training epoch\"\"\"\n",
        "        self.model.train()\n",
        "        epoch_loss = 0\n",
        "        dice_scores = []\n",
        "        iou_scores = []\n",
        "\n",
        "        for images, masks in tqdm(self.train_loader, desc=\"Training\"):\n",
        "            # Move data to device\n",
        "            images = images.to(self.device)\n",
        "            masks = masks.to(self.device)\n",
        "\n",
        "            # Add channel dimension to masks if needed\n",
        "            if masks.dim() == 3:  # [B, H, W]\n",
        "                masks = masks.unsqueeze(1)  # [B, 1, H, W]\n",
        "\n",
        "            # Forward pass\n",
        "            outputs = self.model(images)\n",
        "            loss = self.criterion(outputs, masks)\n",
        "\n",
        "            # Backward pass and optimize\n",
        "            self.optimizer.zero_grad()\n",
        "            loss.backward()\n",
        "            self.optimizer.step()\n",
        "\n",
        "            # Track metrics\n",
        "            epoch_loss += loss.item()\n",
        "\n",
        "            # Calculate metrics (convert logits to probabilities)\n",
        "            with torch.no_grad():\n",
        "                pred_masks = torch.sigmoid(outputs) > 0.5\n",
        "                pred_masks = pred_masks.float()\n",
        "                dice_scores.append(Metrics.dice_coefficient(pred_masks, masks))\n",
        "                iou_scores.append(Metrics.iou_score(pred_masks, masks))\n",
        "\n",
        "        # Calculate average metrics\n",
        "        avg_loss = epoch_loss / len(self.train_loader)\n",
        "        avg_dice = sum(dice_scores) / len(dice_scores) if dice_scores else 0\n",
        "        avg_iou = sum(iou_scores) / len(iou_scores) if iou_scores else 0\n",
        "\n",
        "        return avg_loss, avg_dice, avg_iou\n",
        "\n",
        "    def validate(self):\n",
        "        \"\"\"Validate the model\"\"\"\n",
        "        self.model.eval()\n",
        "        val_loss = 0\n",
        "        dice_scores = []\n",
        "        iou_scores = []\n",
        "\n",
        "        with torch.no_grad():\n",
        "            for images, masks in tqdm(self.val_loader, desc=\"Validation\"):\n",
        "                # Move data to device\n",
        "                images = images.to(self.device)\n",
        "                masks = masks.to(self.device)\n",
        "\n",
        "                # Add channel dimension to masks if needed\n",
        "                if masks.dim() == 3:  # [B, H, W]\n",
        "                    masks = masks.unsqueeze(1)  # [B, 1, H, W]\n",
        "\n",
        "                # Forward pass\n",
        "                outputs = self.model(images)\n",
        "                loss = self.criterion(outputs, masks)\n",
        "\n",
        "                # Track metrics\n",
        "                val_loss += loss.item()\n",
        "\n",
        "                # Calculate metrics\n",
        "                pred_masks = torch.sigmoid(outputs) > 0.5\n",
        "                pred_masks = pred_masks.float()\n",
        "                dice_scores.append(Metrics.dice_coefficient(pred_masks, masks))\n",
        "                iou_scores.append(Metrics.iou_score(pred_masks, masks))\n",
        "\n",
        "        # Calculate average metrics\n",
        "        avg_loss = val_loss / len(self.val_loader)\n",
        "        avg_dice = sum(dice_scores) / len(dice_scores) if dice_scores else 0\n",
        "        avg_iou = sum(iou_scores) / len(iou_scores) if iou_scores else 0\n",
        "\n",
        "        return avg_loss, avg_dice, avg_iou\n",
        "\n",
        "    def train(self, num_epochs=5, save_path=\"best_unet_model.pth\"):\n",
        "        \"\"\"Train the model for the specified number of epochs\"\"\"\n",
        "        print(\"Starting training...\")\n",
        "        for epoch in range(num_epochs):\n",
        "            print(f\"\\nEpoch {epoch+1}/{num_epochs}\")\n",
        "\n",
        "            # Train\n",
        "            train_loss, train_dice, train_iou = self.train_epoch()\n",
        "\n",
        "            # Validate\n",
        "            val_loss, val_dice, val_iou = self.validate()\n",
        "\n",
        "            # Print metrics\n",
        "            print(\n",
        "                f\"Train - Loss: {train_loss:.4f}, Dice: {train_dice:.4f}, IoU: {train_iou:.4f}\"\n",
        "            )\n",
        "            print(\n",
        "                f\"Valid - Loss: {val_loss:.4f}, Dice: {val_dice:.4f}, IoU: {val_iou:.4f}\"\n",
        "            )\n",
        "\n",
        "            # Store history\n",
        "            self.history[\"train_loss\"].append(train_loss)\n",
        "            self.history[\"train_dice\"].append(train_dice)\n",
        "            self.history[\"train_iou\"].append(train_iou)\n",
        "            self.history[\"val_loss\"].append(val_loss)\n",
        "            self.history[\"val_dice\"].append(val_dice)\n",
        "            self.history[\"val_iou\"].append(val_iou)\n",
        "\n",
        "            # Save best model\n",
        "            if val_dice > self.best_val_dice:\n",
        "                self.best_val_dice = val_dice\n",
        "                torch.save(self.model.state_dict(), save_path)\n",
        "                print(f\"Model saved with Dice score: {val_dice:.4f}\")\n",
        "\n",
        "        print(\"Training complete!\")\n",
        "        return self.history\n"
      ],
      "metadata": {
        "id": "smL31mfhHkn8"
      },
      "id": "smL31mfhHkn8",
      "execution_count": 13,
      "outputs": []
    },
    {
      "cell_type": "code",
      "source": [
        "import lightning as L\n",
        "import torch\n",
        "import torch.nn as nn\n",
        "import torch.nn.functional as F\n",
        "from torch.utils.data import DataLoader\n",
        "from torchmetrics.segmentation import DiceScore\n",
        "from torchmetrics import JaccardIndex\n",
        "\n",
        "class LightningUNet(L.LightningModule):\n",
        "    \"\"\"\n",
        "    PyTorch Lightning wrapper for the UNet model.\n",
        "    This can be used in a Jupyter notebook without modifying the original UNet implementation.\n",
        "    \"\"\"\n",
        "    def __init__(self, in_channels=3, out_channels=1, learning_rate=0.001,\n",
        "                 use_binary_threshold=True, threshold=0.5):\n",
        "        \"\"\"\n",
        "        Initialize the Lightning UNet model\n",
        "\n",
        "        Args:\n",
        "            in_channels: Number of input channels (default: 3 for RGB images)\n",
        "            out_channels: Number of output channels (default: 1 for binary segmentation)\n",
        "            learning_rate: Learning rate for the optimizer (default: 0.001)\n",
        "            use_binary_threshold: Whether to apply a threshold to get binary masks (default: True)\n",
        "            threshold: Threshold value for binary classification (default: 0.5)\n",
        "        \"\"\"\n",
        "        super().__init__()\n",
        "\n",
        "        # Create an instance of the original UNet model\n",
        "        self.unet = UNet(in_channels=in_channels, out_channels=out_channels)\n",
        "\n",
        "        # Parameters\n",
        "        self.learning_rate = learning_rate\n",
        "        self.use_binary_threshold = use_binary_threshold\n",
        "        self.threshold = threshold\n",
        "\n",
        "        # Loss function - same as the original implementation\n",
        "        self.criterion = nn.BCEWithLogitsLoss()\n",
        "\n",
        "        # Metrics - using torchmetrics for better integration with Lightning\n",
        "        self.dice_metric = DiceScore(average='micro', num_classes=2)\n",
        "        self.iou_metric = JaccardIndex(task='binary', num_classes=2)\n",
        "\n",
        "        # Metrics for each stage\n",
        "        self.train_dice = DiceScore(average='micro', num_classes=2)\n",
        "        self.val_dice = DiceScore(average='micro', num_classes=2)\n",
        "        self.test_dice = DiceScore(average='micro', num_classes=2)\n",
        "\n",
        "        self.train_iou = JaccardIndex(task='binary', num_classes=2)\n",
        "        self.val_iou = JaccardIndex(task='binary', num_classes=2)\n",
        "        self.test_iou = JaccardIndex(task='binary', num_classes=2)\n",
        "\n",
        "        # Save hyperparameters for easier model loading\n",
        "        self.save_hyperparameters(ignore=['unet'])\n",
        "\n",
        "    def forward(self, x):\n",
        "        \"\"\"Forward pass through the UNet model\"\"\"\n",
        "        return self.unet(x)\n",
        "\n",
        "    def _shared_step(self, batch, stage):\n",
        "        \"\"\"Shared step for training, validation, and testing\"\"\"\n",
        "        images, masks = batch\n",
        "\n",
        "        # Add channel dimension to masks if needed\n",
        "        if masks.dim() == 3:  # [B, H, W]\n",
        "            masks = masks.unsqueeze(1)  # [B, 1, H, W]\n",
        "\n",
        "        # Forward pass\n",
        "        logits = self(images)\n",
        "\n",
        "        # Calculate loss\n",
        "        loss = self.criterion(logits, masks)\n",
        "\n",
        "        # Get predictions\n",
        "        probs = torch.sigmoid(logits)\n",
        "        preds = (probs > self.threshold).float() if self.use_binary_threshold else probs\n",
        "\n",
        "        # Track metrics based on stage\n",
        "        if stage == 'train':\n",
        "            self.train_dice(preds, masks)\n",
        "            self.train_iou(preds.squeeze(1), masks.squeeze(1).long())\n",
        "            self.log('train_loss', loss, prog_bar=True)\n",
        "            self.log('train_dice', self.train_dice, prog_bar=True)\n",
        "            self.log('train_iou', self.train_iou, prog_bar=True)\n",
        "        elif stage == 'val':\n",
        "            self.val_dice(preds, masks)\n",
        "            self.val_iou(preds.squeeze(1), masks.squeeze(1).long())\n",
        "            self.log('val_loss', loss, prog_bar=True)\n",
        "            self.log('val_dice', self.val_dice, prog_bar=True)\n",
        "            self.log('val_iou', self.val_iou, prog_bar=True)\n",
        "        elif stage == 'test':\n",
        "            self.test_dice(preds, masks)\n",
        "            self.test_iou(preds.squeeze(1), masks.squeeze(1).long())\n",
        "            self.log('test_loss', loss)\n",
        "            self.log('test_dice', self.test_dice)\n",
        "            self.log('test_iou', self.test_iou)\n",
        "\n",
        "        return loss\n",
        "\n",
        "    def training_step(self, batch, batch_idx):\n",
        "        \"\"\"Single training step\"\"\"\n",
        "        return self._shared_step(batch, 'train')\n",
        "\n",
        "    def validation_step(self, batch, batch_idx):\n",
        "        \"\"\"Single validation step\"\"\"\n",
        "        return self._shared_step(batch, 'val')\n",
        "\n",
        "    def test_step(self, batch, batch_idx):\n",
        "        \"\"\"Single test step\"\"\"\n",
        "        return self._shared_step(batch, 'test')\n",
        "\n",
        "    def configure_optimizers(self):\n",
        "        \"\"\"Configure optimizers and learning rate schedulers\"\"\"\n",
        "        optimizer = torch.optim.Adam(self.parameters(), lr=self.learning_rate)\n",
        "\n",
        "        # Learning rate scheduler - reduce on plateau\n",
        "        scheduler = torch.optim.lr_scheduler.ReduceLROnPlateau(\n",
        "            optimizer,\n",
        "            mode='min',\n",
        "            factor=0.1,\n",
        "            patience=5,\n",
        "            # verbose=True\n",
        "        )\n",
        "\n",
        "        return {\n",
        "            \"optimizer\": optimizer,\n",
        "            \"lr_scheduler\": {\n",
        "                \"scheduler\": scheduler,\n",
        "                \"monitor\": \"val_loss\",\n",
        "                \"frequency\": 1\n",
        "            },\n",
        "        }\n",
        "\n",
        "    def predict_segmentation(self, image_tensor):\n",
        "        \"\"\"\n",
        "        Generate a segmentation mask for a single image\n",
        "\n",
        "        Args:\n",
        "            image_tensor: Image tensor with shape [C, H, W] or [1, C, H, W]\n",
        "\n",
        "        Returns:\n",
        "            Binary segmentation mask\n",
        "        \"\"\"\n",
        "        self.eval()\n",
        "\n",
        "        # Add batch dimension if needed\n",
        "        if image_tensor.dim() == 3:\n",
        "            image_tensor = image_tensor.unsqueeze(0)\n",
        "\n",
        "        # Move to device\n",
        "        image_tensor = image_tensor.to(self.device)\n",
        "\n",
        "        # Get prediction\n",
        "        with torch.no_grad():\n",
        "            logits = self(image_tensor)\n",
        "            probs = torch.sigmoid(logits)\n",
        "            mask = (probs > self.threshold).float() if self.use_binary_threshold else probs\n",
        "\n",
        "        return mask.squeeze(0)  # Remove batch dimension\n",
        "\n",
        "# Utility functions to use in a Jupyter notebook\n",
        "def train_lightning_unet(model, train_loader, val_loader, max_epochs=10,\n",
        "                         gpus=None, precision=32, callbacks=None, progress_bar_refresh_rate=10):\n",
        "    \"\"\"\n",
        "    Train a LightningUNet model\n",
        "\n",
        "    Args:\n",
        "        model: LightningUNet model instance\n",
        "        train_loader: Training data loader\n",
        "        val_loader: Validation data loader\n",
        "        max_epochs: Maximum number of epochs (default: 10)\n",
        "        gpus: Number of GPUs to use (default: None, will use 1 if available)\n",
        "        precision: Precision for training (default: 32)\n",
        "        callbacks: List of callbacks (default: None)\n",
        "        progress_bar_refresh_rate: Progress bar refresh rate (default: 10)\n",
        "\n",
        "    Returns:\n",
        "        Trained model and trainer\n",
        "    \"\"\"\n",
        "    # Default callbacks if none provided\n",
        "    if callbacks is None:\n",
        "        callbacks = [\n",
        "            L.callbacks.ModelCheckpoint(\n",
        "                monitor='val_dice',\n",
        "                mode='max',\n",
        "                save_top_k=1,\n",
        "                filename='best-{epoch:02d}-{val_dice:.4f}',\n",
        "                verbose=True\n",
        "            ),\n",
        "            L.callbacks.EarlyStopping(\n",
        "                monitor='val_loss',\n",
        "                patience=10,\n",
        "                mode='min',\n",
        "                verbose=True\n",
        "            ),\n",
        "            L.callbacks.LearningRateMonitor(logging_interval='epoch')\n",
        "        ]\n",
        "\n",
        "    # Configure trainer\n",
        "    if gpus is None:\n",
        "        gpus = 1 if torch.cuda.is_available() else 0\n",
        "\n",
        "    trainer = L.Trainer(\n",
        "        max_epochs=max_epochs,\n",
        "        accelerator='gpu' if gpus > 0 else 'cpu',\n",
        "        devices=gpus,\n",
        "        callbacks=callbacks,\n",
        "        log_every_n_steps=progress_bar_refresh_rate,\n",
        "        precision=precision\n",
        "    )\n",
        "\n",
        "    # Train the model\n",
        "    trainer.fit(model, train_loader, val_loader)\n",
        "\n",
        "    return model, trainer\n",
        "\n",
        "def evaluate_lightning_unet(model, test_loader):\n",
        "    \"\"\"\n",
        "    Evaluate a trained LightningUNet model\n",
        "\n",
        "    Args:\n",
        "        model: Trained LightningUNet model\n",
        "        test_loader: Test data loader\n",
        "\n",
        "    Returns:\n",
        "        Test results dictionary\n",
        "    \"\"\"\n",
        "    trainer = L.Trainer(accelerator='gpu' if torch.cuda.is_available() else 'cpu')\n",
        "    results = trainer.test(model, test_loader, verbose=True)\n",
        "\n",
        "    return results\n"
      ],
      "metadata": {
        "id": "feL179LwHqah"
      },
      "id": "feL179LwHqah",
      "execution_count": 14,
      "outputs": []
    },
    {
      "cell_type": "code",
      "execution_count": 15,
      "id": "H3whbtKp4cvM",
      "metadata": {
        "id": "H3whbtKp4cvM",
        "colab": {
          "base_uri": "https://localhost:8080/"
        },
        "outputId": "150cd17d-636f-4be0-cd9e-26fae4fe0510"
      },
      "outputs": [
        {
          "output_type": "stream",
          "name": "stdout",
          "text": [
            "MLflow tracking URI: /content/mlruns\n"
          ]
        }
      ],
      "source": [
        "# Define the MLflow tracking URI\n",
        "MLFLOW_TRACKING_URI = NB_DIR/'mlruns'\n",
        "print(f\"MLflow tracking URI: {MLFLOW_TRACKING_URI}\")"
      ]
    },
    {
      "cell_type": "markdown",
      "id": "20d43301",
      "metadata": {
        "id": "20d43301"
      },
      "source": [
        "NOTE: In Experment tracking, using Early stops in experiements tracking is not practical, the practical choice would be to train for a fixed small number of epochs and compare final metrics. We will continue this code as it's useful for learning purpose."
      ]
    },
    {
      "cell_type": "code",
      "source": [
        "!pip install mlflow"
      ],
      "metadata": {
        "colab": {
          "base_uri": "https://localhost:8080/"
        },
        "id": "FuWOiJ5zHvT-",
        "outputId": "24ff2534-9c32-4011-c474-115297dfb3f5"
      },
      "id": "FuWOiJ5zHvT-",
      "execution_count": 16,
      "outputs": [
        {
          "output_type": "stream",
          "name": "stdout",
          "text": [
            "Requirement already satisfied: mlflow in /usr/local/lib/python3.12/dist-packages (3.3.2)\n",
            "Requirement already satisfied: mlflow-skinny==3.3.2 in /usr/local/lib/python3.12/dist-packages (from mlflow) (3.3.2)\n",
            "Requirement already satisfied: mlflow-tracing==3.3.2 in /usr/local/lib/python3.12/dist-packages (from mlflow) (3.3.2)\n",
            "Requirement already satisfied: Flask<4 in /usr/local/lib/python3.12/dist-packages (from mlflow) (3.1.2)\n",
            "Requirement already satisfied: alembic!=1.10.0,<2 in /usr/local/lib/python3.12/dist-packages (from mlflow) (1.16.5)\n",
            "Requirement already satisfied: cryptography<46,>=43.0.0 in /usr/local/lib/python3.12/dist-packages (from mlflow) (43.0.3)\n",
            "Requirement already satisfied: docker<8,>=4.0.0 in /usr/local/lib/python3.12/dist-packages (from mlflow) (7.1.0)\n",
            "Requirement already satisfied: graphene<4 in /usr/local/lib/python3.12/dist-packages (from mlflow) (3.4.3)\n",
            "Requirement already satisfied: gunicorn<24 in /usr/local/lib/python3.12/dist-packages (from mlflow) (23.0.0)\n",
            "Requirement already satisfied: matplotlib<4 in /usr/local/lib/python3.12/dist-packages (from mlflow) (3.10.0)\n",
            "Requirement already satisfied: numpy<3 in /usr/local/lib/python3.12/dist-packages (from mlflow) (2.0.2)\n",
            "Requirement already satisfied: pandas<3 in /usr/local/lib/python3.12/dist-packages (from mlflow) (2.2.2)\n",
            "Requirement already satisfied: pyarrow<22,>=4.0.0 in /usr/local/lib/python3.12/dist-packages (from mlflow) (18.1.0)\n",
            "Requirement already satisfied: scikit-learn<2 in /usr/local/lib/python3.12/dist-packages (from mlflow) (1.6.1)\n",
            "Requirement already satisfied: scipy<2 in /usr/local/lib/python3.12/dist-packages (from mlflow) (1.16.1)\n",
            "Requirement already satisfied: sqlalchemy<3,>=1.4.0 in /usr/local/lib/python3.12/dist-packages (from mlflow) (2.0.43)\n",
            "Requirement already satisfied: cachetools<7,>=5.0.0 in /usr/local/lib/python3.12/dist-packages (from mlflow-skinny==3.3.2->mlflow) (5.5.2)\n",
            "Requirement already satisfied: click<9,>=7.0 in /usr/local/lib/python3.12/dist-packages (from mlflow-skinny==3.3.2->mlflow) (8.2.1)\n",
            "Requirement already satisfied: cloudpickle<4 in /usr/local/lib/python3.12/dist-packages (from mlflow-skinny==3.3.2->mlflow) (3.1.1)\n",
            "Requirement already satisfied: databricks-sdk<1,>=0.20.0 in /usr/local/lib/python3.12/dist-packages (from mlflow-skinny==3.3.2->mlflow) (0.64.0)\n",
            "Requirement already satisfied: fastapi<1 in /usr/local/lib/python3.12/dist-packages (from mlflow-skinny==3.3.2->mlflow) (0.116.1)\n",
            "Requirement already satisfied: gitpython<4,>=3.1.9 in /usr/local/lib/python3.12/dist-packages (from mlflow-skinny==3.3.2->mlflow) (3.1.45)\n",
            "Requirement already satisfied: importlib_metadata!=4.7.0,<9,>=3.7.0 in /usr/local/lib/python3.12/dist-packages (from mlflow-skinny==3.3.2->mlflow) (8.7.0)\n",
            "Requirement already satisfied: opentelemetry-api<3,>=1.9.0 in /usr/local/lib/python3.12/dist-packages (from mlflow-skinny==3.3.2->mlflow) (1.36.0)\n",
            "Requirement already satisfied: opentelemetry-sdk<3,>=1.9.0 in /usr/local/lib/python3.12/dist-packages (from mlflow-skinny==3.3.2->mlflow) (1.36.0)\n",
            "Requirement already satisfied: packaging<26 in /usr/local/lib/python3.12/dist-packages (from mlflow-skinny==3.3.2->mlflow) (25.0)\n",
            "Requirement already satisfied: protobuf<7,>=3.12.0 in /usr/local/lib/python3.12/dist-packages (from mlflow-skinny==3.3.2->mlflow) (5.29.5)\n",
            "Requirement already satisfied: pydantic<3,>=1.10.8 in /usr/local/lib/python3.12/dist-packages (from mlflow-skinny==3.3.2->mlflow) (2.11.7)\n",
            "Requirement already satisfied: pyyaml<7,>=5.1 in /usr/local/lib/python3.12/dist-packages (from mlflow-skinny==3.3.2->mlflow) (6.0.2)\n",
            "Requirement already satisfied: requests<3,>=2.17.3 in /usr/local/lib/python3.12/dist-packages (from mlflow-skinny==3.3.2->mlflow) (2.32.4)\n",
            "Requirement already satisfied: sqlparse<1,>=0.4.0 in /usr/local/lib/python3.12/dist-packages (from mlflow-skinny==3.3.2->mlflow) (0.5.3)\n",
            "Requirement already satisfied: typing-extensions<5,>=4.0.0 in /usr/local/lib/python3.12/dist-packages (from mlflow-skinny==3.3.2->mlflow) (4.15.0)\n",
            "Requirement already satisfied: uvicorn<1 in /usr/local/lib/python3.12/dist-packages (from mlflow-skinny==3.3.2->mlflow) (0.35.0)\n",
            "Requirement already satisfied: Mako in /usr/lib/python3/dist-packages (from alembic!=1.10.0,<2->mlflow) (1.1.3)\n",
            "Requirement already satisfied: cffi>=1.12 in /usr/local/lib/python3.12/dist-packages (from cryptography<46,>=43.0.0->mlflow) (1.17.1)\n",
            "Requirement already satisfied: urllib3>=1.26.0 in /usr/local/lib/python3.12/dist-packages (from docker<8,>=4.0.0->mlflow) (2.5.0)\n",
            "Requirement already satisfied: blinker>=1.9.0 in /usr/local/lib/python3.12/dist-packages (from Flask<4->mlflow) (1.9.0)\n",
            "Requirement already satisfied: itsdangerous>=2.2.0 in /usr/local/lib/python3.12/dist-packages (from Flask<4->mlflow) (2.2.0)\n",
            "Requirement already satisfied: jinja2>=3.1.2 in /usr/local/lib/python3.12/dist-packages (from Flask<4->mlflow) (3.1.6)\n",
            "Requirement already satisfied: markupsafe>=2.1.1 in /usr/local/lib/python3.12/dist-packages (from Flask<4->mlflow) (3.0.2)\n",
            "Requirement already satisfied: werkzeug>=3.1.0 in /usr/local/lib/python3.12/dist-packages (from Flask<4->mlflow) (3.1.3)\n",
            "Requirement already satisfied: graphql-core<3.3,>=3.1 in /usr/local/lib/python3.12/dist-packages (from graphene<4->mlflow) (3.2.6)\n",
            "Requirement already satisfied: graphql-relay<3.3,>=3.1 in /usr/local/lib/python3.12/dist-packages (from graphene<4->mlflow) (3.2.0)\n",
            "Requirement already satisfied: python-dateutil<3,>=2.7.0 in /usr/local/lib/python3.12/dist-packages (from graphene<4->mlflow) (2.9.0.post0)\n",
            "Requirement already satisfied: contourpy>=1.0.1 in /usr/local/lib/python3.12/dist-packages (from matplotlib<4->mlflow) (1.3.3)\n",
            "Requirement already satisfied: cycler>=0.10 in /usr/local/lib/python3.12/dist-packages (from matplotlib<4->mlflow) (0.12.1)\n",
            "Requirement already satisfied: fonttools>=4.22.0 in /usr/local/lib/python3.12/dist-packages (from matplotlib<4->mlflow) (4.59.1)\n",
            "Requirement already satisfied: kiwisolver>=1.3.1 in /usr/local/lib/python3.12/dist-packages (from matplotlib<4->mlflow) (1.4.9)\n",
            "Requirement already satisfied: pillow>=8 in /usr/local/lib/python3.12/dist-packages (from matplotlib<4->mlflow) (11.3.0)\n",
            "Requirement already satisfied: pyparsing>=2.3.1 in /usr/local/lib/python3.12/dist-packages (from matplotlib<4->mlflow) (3.2.3)\n",
            "Requirement already satisfied: pytz>=2020.1 in /usr/local/lib/python3.12/dist-packages (from pandas<3->mlflow) (2025.2)\n",
            "Requirement already satisfied: tzdata>=2022.7 in /usr/local/lib/python3.12/dist-packages (from pandas<3->mlflow) (2025.2)\n",
            "Requirement already satisfied: joblib>=1.2.0 in /usr/local/lib/python3.12/dist-packages (from scikit-learn<2->mlflow) (1.5.1)\n",
            "Requirement already satisfied: threadpoolctl>=3.1.0 in /usr/local/lib/python3.12/dist-packages (from scikit-learn<2->mlflow) (3.6.0)\n",
            "Requirement already satisfied: greenlet>=1 in /usr/local/lib/python3.12/dist-packages (from sqlalchemy<3,>=1.4.0->mlflow) (3.2.4)\n",
            "Requirement already satisfied: pycparser in /usr/local/lib/python3.12/dist-packages (from cffi>=1.12->cryptography<46,>=43.0.0->mlflow) (2.22)\n",
            "Requirement already satisfied: google-auth~=2.0 in /usr/local/lib/python3.12/dist-packages (from databricks-sdk<1,>=0.20.0->mlflow-skinny==3.3.2->mlflow) (2.38.0)\n",
            "Requirement already satisfied: starlette<0.48.0,>=0.40.0 in /usr/local/lib/python3.12/dist-packages (from fastapi<1->mlflow-skinny==3.3.2->mlflow) (0.47.3)\n",
            "Requirement already satisfied: gitdb<5,>=4.0.1 in /usr/local/lib/python3.12/dist-packages (from gitpython<4,>=3.1.9->mlflow-skinny==3.3.2->mlflow) (4.0.12)\n",
            "Requirement already satisfied: zipp>=3.20 in /usr/local/lib/python3.12/dist-packages (from importlib_metadata!=4.7.0,<9,>=3.7.0->mlflow-skinny==3.3.2->mlflow) (3.23.0)\n",
            "Requirement already satisfied: opentelemetry-semantic-conventions==0.57b0 in /usr/local/lib/python3.12/dist-packages (from opentelemetry-sdk<3,>=1.9.0->mlflow-skinny==3.3.2->mlflow) (0.57b0)\n",
            "Requirement already satisfied: annotated-types>=0.6.0 in /usr/local/lib/python3.12/dist-packages (from pydantic<3,>=1.10.8->mlflow-skinny==3.3.2->mlflow) (0.7.0)\n",
            "Requirement already satisfied: pydantic-core==2.33.2 in /usr/local/lib/python3.12/dist-packages (from pydantic<3,>=1.10.8->mlflow-skinny==3.3.2->mlflow) (2.33.2)\n",
            "Requirement already satisfied: typing-inspection>=0.4.0 in /usr/local/lib/python3.12/dist-packages (from pydantic<3,>=1.10.8->mlflow-skinny==3.3.2->mlflow) (0.4.1)\n",
            "Requirement already satisfied: six>=1.5 in /usr/local/lib/python3.12/dist-packages (from python-dateutil<3,>=2.7.0->graphene<4->mlflow) (1.17.0)\n",
            "Requirement already satisfied: charset_normalizer<4,>=2 in /usr/local/lib/python3.12/dist-packages (from requests<3,>=2.17.3->mlflow-skinny==3.3.2->mlflow) (3.4.3)\n",
            "Requirement already satisfied: idna<4,>=2.5 in /usr/local/lib/python3.12/dist-packages (from requests<3,>=2.17.3->mlflow-skinny==3.3.2->mlflow) (3.10)\n",
            "Requirement already satisfied: certifi>=2017.4.17 in /usr/local/lib/python3.12/dist-packages (from requests<3,>=2.17.3->mlflow-skinny==3.3.2->mlflow) (2025.8.3)\n",
            "Requirement already satisfied: h11>=0.8 in /usr/local/lib/python3.12/dist-packages (from uvicorn<1->mlflow-skinny==3.3.2->mlflow) (0.16.0)\n",
            "Requirement already satisfied: smmap<6,>=3.0.1 in /usr/local/lib/python3.12/dist-packages (from gitdb<5,>=4.0.1->gitpython<4,>=3.1.9->mlflow-skinny==3.3.2->mlflow) (5.0.2)\n",
            "Requirement already satisfied: pyasn1-modules>=0.2.1 in /usr/local/lib/python3.12/dist-packages (from google-auth~=2.0->databricks-sdk<1,>=0.20.0->mlflow-skinny==3.3.2->mlflow) (0.4.2)\n",
            "Requirement already satisfied: rsa<5,>=3.1.4 in /usr/local/lib/python3.12/dist-packages (from google-auth~=2.0->databricks-sdk<1,>=0.20.0->mlflow-skinny==3.3.2->mlflow) (4.9.1)\n",
            "Requirement already satisfied: anyio<5,>=3.6.2 in /usr/local/lib/python3.12/dist-packages (from starlette<0.48.0,>=0.40.0->fastapi<1->mlflow-skinny==3.3.2->mlflow) (4.10.0)\n",
            "Requirement already satisfied: sniffio>=1.1 in /usr/local/lib/python3.12/dist-packages (from anyio<5,>=3.6.2->starlette<0.48.0,>=0.40.0->fastapi<1->mlflow-skinny==3.3.2->mlflow) (1.3.1)\n",
            "Requirement already satisfied: pyasn1<0.7.0,>=0.6.1 in /usr/local/lib/python3.12/dist-packages (from pyasn1-modules>=0.2.1->google-auth~=2.0->databricks-sdk<1,>=0.20.0->mlflow-skinny==3.3.2->mlflow) (0.6.1)\n"
          ]
        }
      ]
    },
    {
      "cell_type": "code",
      "execution_count": 17,
      "id": "54165dab",
      "metadata": {
        "id": "54165dab",
        "colab": {
          "base_uri": "https://localhost:8080/"
        },
        "outputId": "c5991bdc-c8da-4c42-bd7d-3bd426279eed"
      },
      "outputs": [
        {
          "output_type": "stream",
          "name": "stdout",
          "text": [
            "Artifacts directory: /content/mlruns/artifacts\n"
          ]
        }
      ],
      "source": [
        "import gc\n",
        "import mlflow\n",
        "\n",
        "ARTIFACTS_DIR = MLFLOW_TRACKING_URI/'artifacts'\n",
        "os.makedirs(ARTIFACTS_DIR, exist_ok=True)\n",
        "print(f\"Artifacts directory: {ARTIFACTS_DIR}\")\n",
        "def run_experiment(optimizer_type='adam', learning_rate=0.001, max_epochs=2):\n",
        "    \"\"\"Train UNet with specific optimizer and learning rate, tracking with MLFlow\"\"\"\n",
        "    if 'model' in locals():\n",
        "        del model\n",
        "        torch.cuda.empty_cache()\n",
        "        gc.collect()\n",
        "    run_name = f\"{optimizer_type}_lr_{learning_rate}\".replace('.', '_')\n",
        "    with mlflow.start_run():\n",
        "        # Create run name and MLflow logger\n",
        "\n",
        "\n",
        "        # Log hyperparameters\n",
        "        mlflow.log_params({\n",
        "            \"optimizer_type\": optimizer_type,\n",
        "            \"learning_rate\": learning_rate\n",
        "        })\n",
        "\n",
        "        # Early stopping callback\n",
        "        early_stop_callback = EarlyStopping( #NOTE: Using Early stops in experiements tracking is not practical, the practical\n",
        "            monitor=\"val_loss\", patience=3, mode=\"min\"\n",
        "        )\n",
        "\n",
        "\n",
        "        # Create model with specified learning rate\n",
        "        model = LightningUNet(in_channels=3, out_channels=1, learning_rate=learning_rate)\n",
        "\n",
        "        # Modify optimizer if using SGD\n",
        "        if optimizer_type.lower() == 'sgd':\n",
        "            def configure_optimizers(self):\n",
        "                optimizer = torch.optim.SGD(self.parameters(), lr=self.learning_rate, momentum=0.9)\n",
        "                scheduler = torch.optim.lr_scheduler.ReduceLROnPlateau(\n",
        "                    optimizer, mode='min', factor=0.1, patience=5,\n",
        "                )\n",
        "                return {\n",
        "                    \"optimizer\": optimizer,\n",
        "                    \"lr_scheduler\": {\"scheduler\": scheduler, \"monitor\": \"val_loss\", \"frequency\": 1},\n",
        "                }\n",
        "            import types\n",
        "            model.configure_optimizers = types.MethodType(configure_optimizers, model)\n",
        "\n",
        "        # Setup trainer and train\n",
        "        trainer = L.Trainer(\n",
        "            max_epochs=max_epochs,\n",
        "            accelerator=\"gpu\" if torch.cuda.is_available() else \"cpu\",\n",
        "            devices=1,\n",
        "            callbacks=[early_stop_callback],\n",
        "            log_every_n_steps=10,\n",
        "            # model_registry=str(ARTIFACTS_DIR),\n",
        "        )\n",
        "        # Train and evaluate\n",
        "        trainer.fit(model, train_loader, val_loader)\n",
        "        val_results = trainer.validate(model, val_loader)\n",
        "        model_info = mlflow.pytorch.log_model(model, name=run_name)\n",
        "        print(f\"Model saved in run {mlflow.active_run().info.run_id} with info: {model_info}\")\n",
        "    return {\n",
        "            \"optimizer_type\": optimizer_type,\n",
        "            \"learning_rate\": learning_rate,\n",
        "            \"val_loss\": val_results[0][\"val_loss\"],\n",
        "            \"val_dice\": val_results[0][\"val_dice\"],\n",
        "            \"val_iou\": val_results[0][\"val_iou\"]\n",
        "        }"
      ]
    },
    {
      "cell_type": "markdown",
      "id": "3675d327",
      "metadata": {
        "id": "3675d327"
      },
      "source": [
        "# Task 3: Setting Up MLFlow UI for Experiment Tracking"
      ]
    },
    {
      "cell_type": "markdown",
      "id": "688479a6",
      "metadata": {
        "id": "688479a6"
      },
      "source": [
        "Before we run our experiments, let's set up the MLFlow UI so we can monitor our runs in real-time and analyze the results afterward."
      ]
    },
    {
      "cell_type": "markdown",
      "id": "b3aeebf3",
      "metadata": {
        "id": "b3aeebf3"
      },
      "source": [
        "## Setting up the MLFlow UI\n",
        "MLFlow provides a web-based user interface that allows us to visualize, compare, and analyze our experiment runs. Let's start by launching the MLFlow UI:"
      ]
    },
    {
      "cell_type": "code",
      "execution_count": 18,
      "id": "D6nWHTDOplMQ",
      "metadata": {
        "id": "D6nWHTDOplMQ"
      },
      "outputs": [],
      "source": [
        "%%capture\n",
        "!pip install mlflow -q\n",
        "!pip install pyngrok -q"
      ]
    },
    {
      "cell_type": "code",
      "execution_count": 19,
      "id": "3303160f",
      "metadata": {
        "id": "3303160f"
      },
      "outputs": [],
      "source": [
        "import mlflow\n",
        "import subprocess\n",
        "from pyngrok import ngrok, conf"
      ]
    },
    {
      "cell_type": "code",
      "execution_count": 20,
      "id": "FE4nH0ydpsMI",
      "metadata": {
        "colab": {
          "base_uri": "https://localhost:8080/"
        },
        "id": "FE4nH0ydpsMI",
        "outputId": "2abfe9b1-5ea5-44e8-acfe-9ca024e8ba05"
      },
      "outputs": [
        {
          "output_type": "execute_result",
          "data": {
            "text/plain": [
              "<Popen: returncode: None args: ['mlflow', 'ui', '--backend-store-uri', '/con...>"
            ]
          },
          "metadata": {},
          "execution_count": 20
        }
      ],
      "source": [
        "# Start the MLflow server using subprocess\n",
        "subprocess.Popen([\"mlflow\", \"ui\", \"--backend-store-uri\", str(MLFLOW_TRACKING_URI), \"--port\", \"5000\"])"
      ]
    },
    {
      "cell_type": "code",
      "execution_count": 21,
      "id": "2A8ZYOurpxQ_",
      "metadata": {
        "id": "2A8ZYOurpxQ_",
        "colab": {
          "base_uri": "https://localhost:8080/"
        },
        "outputId": "46c80864-42ef-473f-f1b0-51139987e2f8"
      },
      "outputs": [
        {
          "output_type": "stream",
          "name": "stderr",
          "text": [
            "WARNING:root:Malformed experiment 'artifacts'. Detailed error Yaml file '/content/mlruns/artifacts/meta.yaml' does not exist.\n",
            "Traceback (most recent call last):\n",
            "  File \"/usr/local/lib/python3.12/dist-packages/mlflow/store/tracking/file_store.py\", line 366, in search_experiments\n",
            "    exp = self._get_experiment(exp_id, view_type)\n",
            "          ^^^^^^^^^^^^^^^^^^^^^^^^^^^^^^^^^^^^^^^\n",
            "  File \"/usr/local/lib/python3.12/dist-packages/mlflow/store/tracking/file_store.py\", line 464, in _get_experiment\n",
            "    meta = FileStore._read_yaml(experiment_dir, FileStore.META_DATA_FILE_NAME)\n",
            "           ^^^^^^^^^^^^^^^^^^^^^^^^^^^^^^^^^^^^^^^^^^^^^^^^^^^^^^^^^^^^^^^^^^^\n",
            "  File \"/usr/local/lib/python3.12/dist-packages/mlflow/store/tracking/file_store.py\", line 1634, in _read_yaml\n",
            "    return _read_helper(root, file_name, attempts_remaining=retries)\n",
            "           ^^^^^^^^^^^^^^^^^^^^^^^^^^^^^^^^^^^^^^^^^^^^^^^^^^^^^^^^^\n",
            "  File \"/usr/local/lib/python3.12/dist-packages/mlflow/store/tracking/file_store.py\", line 1627, in _read_helper\n",
            "    result = read_yaml(root, file_name)\n",
            "             ^^^^^^^^^^^^^^^^^^^^^^^^^^\n",
            "  File \"/usr/local/lib/python3.12/dist-packages/mlflow/utils/yaml_utils.py\", line 107, in read_yaml\n",
            "    raise MissingConfigException(f\"Yaml file '{file_path}' does not exist.\")\n",
            "mlflow.exceptions.MissingConfigException: Yaml file '/content/mlruns/artifacts/meta.yaml' does not exist.\n"
          ]
        },
        {
          "output_type": "execute_result",
          "data": {
            "text/plain": [
              "<Experiment: artifact_location='/content/mlruns/222971304891348040', creation_time=1756492708457, experiment_id='222971304891348040', last_update_time=1756492708457, lifecycle_stage='active', name='building_segmentation_tuning', tags={}>"
            ]
          },
          "metadata": {},
          "execution_count": 21
        }
      ],
      "source": [
        "# Set MLflow tracking URI\n",
        "mlflow.set_tracking_uri(str(MLFLOW_TRACKING_URI))\n",
        "mlflow.set_experiment(\"building_segmentation_tuning\")"
      ]
    },
    {
      "cell_type": "code",
      "execution_count": 22,
      "id": "bva7xrCbpzJO",
      "metadata": {
        "id": "bva7xrCbpzJO"
      },
      "outputs": [],
      "source": [
        "# Set up ngrok for exposing the MLflow UI\n",
        "conf.get_default().auth_token = ngrok_auth"
      ]
    },
    {
      "cell_type": "code",
      "execution_count": 23,
      "id": "bUuxkrgIqL0d",
      "metadata": {
        "colab": {
          "base_uri": "https://localhost:8080/"
        },
        "id": "bUuxkrgIqL0d",
        "outputId": "4e3e8eb8-7fcb-43d6-8935-293e17e71932"
      },
      "outputs": [
        {
          "output_type": "stream",
          "name": "stdout",
          "text": [
            "Click the link below with 'ngrok-free.app' below, then click 'Visit Site' to visit the MLFlow UI\n",
            " * ngrok tunnel \"https://d881f40886ac.ngrok-free.app\" -> \"http://127.0.0.1:5000\"\n"
          ]
        }
      ],
      "source": [
        "# Expose the MLflow UI on port 5000\n",
        "port = 5000\n",
        "public_url = ngrok.connect(port).public_url\n",
        "print(\"Click the link below with 'ngrok-free.app' below, then click 'Visit Site' to visit the MLFlow UI\")\n",
        "print(f' * ngrok tunnel \"{public_url}\" -> \"http://127.0.0.1:{port}\"')"
      ]
    },
    {
      "cell_type": "markdown",
      "id": "e6187227",
      "metadata": {
        "id": "e6187227"
      },
      "source": [
        "<img src=\"data:image/png;base64,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\" />"
      ]
    },
    {
      "cell_type": "markdown",
      "id": "ObToQKSln3Ff",
      "metadata": {
        "id": "ObToQKSln3Ff"
      },
      "source": [
        "<figure style=\"text-align: center\">\n",
        "  <i>Homepage of MLFlow. Yours might seems a bit different.<br>\n",
        "  On the top-left side, you can access different experiments. On the top-right side, you can toggle dark/light mode.\n",
        "  </i>\n",
        "</figure>"
      ]
    },
    {
      "cell_type": "markdown",
      "id": "cf4d2424",
      "metadata": {
        "id": "cf4d2424"
      },
      "source": [
        "# Task 5: Analyzing Results with MLFlow UI\n",
        "\n",
        "Running an experiment, especially for deep learning, is resource consumptive. If you are running this module in google colab, free version, you most likely run into crashing kernel. That is why we have prepared with you some successful run so you can still explore MLFlow UI.\n",
        "\n",
        "**By default we won't run the experiment.**\n",
        "\n",
        "If you still would like to try running the experiment, you can still do it by scrolling down to the bottom of the module, there is a ready-to-run cell to start the experiment.\n",
        "\n",
        "Now that our experiments are complete, let's explore how to analyze the results using the MLFlow UI."
      ]
    },
    {
      "cell_type": "markdown",
      "id": "1d4d194e",
      "metadata": {
        "id": "1d4d194e"
      },
      "source": [
        "## Navigating the MLFlow UI"
      ]
    },
    {
      "cell_type": "markdown",
      "id": "2892ed3a",
      "metadata": {
        "id": "2892ed3a"
      },
      "source": [
        "### Experiment View:"
      ]
    },
    {
      "cell_type": "markdown",
      "id": "44f6f984",
      "metadata": {
        "id": "44f6f984"
      },
      "source": [
        "<img src=\"data:image/png;base64,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\" />"
      ]
    },
    {
      "cell_type": "markdown",
      "id": "2Abp3vbTo-gf",
      "metadata": {
        "id": "2Abp3vbTo-gf"
      },
      "source": [
        "- Click on the \"building_segmentation_tuning\" experiment to see all runs\n",
        "- Each run represents a different optimizer/learning rate combination\n",
        "- The runs are named according to the configuration (e.g., \"adam_lr_0.001\")"
      ]
    },
    {
      "cell_type": "markdown",
      "id": "c88570fc",
      "metadata": {
        "id": "c88570fc"
      },
      "source": [
        "### Comparing Runs:\n"
      ]
    },
    {
      "cell_type": "markdown",
      "id": "2a9c7147",
      "metadata": {
        "id": "2a9c7147"
      },
      "source": [
        "<img src=\"data:image/png;base64,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\"/>"
      ]
    },
    {
      "cell_type": "markdown",
      "id": "ckXN3bMxpKEt",
      "metadata": {
        "id": "ckXN3bMxpKEt"
      },
      "source": [
        "- Select the checkbox next to each run you want to compare\n",
        "- Use the \"Compare\" button to compare runs\n"
      ]
    },
    {
      "cell_type": "markdown",
      "id": "b084bc78",
      "metadata": {
        "id": "b084bc78"
      },
      "source": [
        "<img src=\"data:image/png;base64,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\" />"
      ]
    },
    {
      "cell_type": "markdown",
      "id": "5jc7sjgTpMYl",
      "metadata": {
        "id": "5jc7sjgTpMYl"
      },
      "source": [
        "- In the `Parameters` form, fill in `optimizer_type` and `learning_rate`\n",
        "- In the `Metrics` form, let's assume our most important metrics is `val_iou`\n",
        "- Then you can analyze how different combinations of `Parameters` we run previously lead to different result in `Metrics`"
      ]
    },
    {
      "cell_type": "markdown",
      "id": "599c5dd7",
      "metadata": {
        "id": "599c5dd7"
      },
      "source": [
        "### Exploring Metrics:"
      ]
    },
    {
      "cell_type": "markdown",
      "id": "f5fafa41",
      "metadata": {
        "id": "f5fafa41"
      },
      "source": [
        "<img src=\"data:image/png;base64,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\"/>"
      ]
    },
    {
      "cell_type": "markdown",
      "id": "Dz-ZlOxOpUVj",
      "metadata": {
        "id": "Dz-ZlOxOpUVj"
      },
      "source": [
        "- Click on any individual run to see detailed information"
      ]
    },
    {
      "cell_type": "markdown",
      "id": "b3aeb2df",
      "metadata": {
        "id": "b3aeb2df"
      },
      "source": [
        "<img src=\"data:image/png;base64,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\" />"
      ]
    },
    {
      "cell_type": "markdown",
      "id": "0kOgq0GcpU6s",
      "metadata": {
        "id": "0kOgq0GcpU6s"
      },
      "source": [
        "- You can read the `Overview` tab to see the overview of this run\n",
        "- Navigate to the `Model Metrics` tab to see training and validation metrics\n",
        "- Click on any metric to see its evolution over time"
      ]
    },
    {
      "cell_type": "markdown",
      "id": "7ad227be",
      "metadata": {
        "id": "7ad227be"
      },
      "source": [
        "<div class=\"alert alert-block alert-success\">\n",
        "<h3>Excercise 1</h3>\n",
        "Key Questions to Answer\n",
        "</div>\n",
        "Use the MLFlow UI to answer these questions based on your experiment result:\n",
        "\n",
        "1. Which optimizer generally performed better, Adam or SGD?\n",
        "1. What learning rate worked best for each optimizer?\n",
        "1. How did the validation loss change over time for different configurations?\n",
        "1. Did any runs show signs of overfitting (training loss decreasing while validation loss increases)?\n",
        "1. Which configuration achieved the highest Dice score and IoU?\n",
        "\n",
        "<details>\n",
        "<summary>Click to see answer.</summary>\n",
        "\n",
        "There's no _one_ correct answer for this one ;)\n",
        "\n",
        "</details>"
      ]
    },
    {
      "cell_type": "markdown",
      "id": "4fe3784b",
      "metadata": {
        "id": "4fe3784b"
      },
      "source": [
        "By exploring these questions through the MLFlow UI, you'll gain insights not just about which configuration performed best, but also about how different optimizers and learning rates affect the training dynamics of UNet models for semantic segmentation."
      ]
    },
    {
      "cell_type": "markdown",
      "id": "3e186771",
      "metadata": {
        "id": "3e186771"
      },
      "source": [
        "# 🎉 Congratulations on Completing the Module! 🎉\n",
        "\n",
        "Well done! You've successfully completed the experimentation module for UNet semantic segmentation using MLFlow. This module has taken you through the essential process of hyperparameter experimentation and tracking your deep learning experiments.\n",
        "\n",
        "Here's a summary of what we accomplished in this module:\n",
        "\n",
        "1. **Understanding Experimentation in Deep Learning**\n",
        "   - Learned the importance of hyperparameter tuning\n",
        "   - Explored how hyperparameters impact model performance\n",
        "   - Identified common pitfalls in experimentation\n",
        "   - Set clear experimental goals for our segmentation task\n",
        "1. **MLFlow Integration**\n",
        "   - Set up MLFlow for experiment tracking\n",
        "   - Learned how PyTorch Lightning integrates with MLFlow\n",
        "   - Created a structured approach to log parameters and metrics\n",
        "   - Used the MLFlow UI to visualize experiment results\n",
        "1. **Structured Experimentation Plan**\n",
        "   - Systematically tested different optimizer types (Adam vs SGD)\n",
        "   - Experimented with various learning rates\n",
        "   - Tracked key segmentation metrics (loss, Dice score, IoU)\n",
        "   - Analyzed how different configurations affect performance\n",
        "1. **Results Analysis**\n",
        "   - Compared experiment results across different runs\n",
        "   - Visualized training dynamics for different configurations\n",
        "\n",
        "This experimentation process is a crucial skill for deep learning practitioners, allowing you to systematically improve model performance beyond the initial implementation. You now have the tools to approach any deep learning problem with a structured experimental mindset, tracking your progress and making data-driven decisions about model configurations."
      ]
    },
    {
      "cell_type": "markdown",
      "id": "ad54d71c",
      "metadata": {
        "id": "ad54d71c"
      },
      "source": [
        "# Further Reading\n",
        "\n",
        "- YouTube Video - [Cornell CS 5787: Applied Machine Learning. Lecture 22. Part 1: Learning Curves](https://youtu.be/lYAV5KNk_TY?si=JHM_iQ7ol03e0xy_)\n",
        "- YouTube Video - [Cornell CS 5787: Applied Machine Learning. Lecture 22. Part 2: Loss Curves](https://youtu.be/StNrJnL8eX0?si=yhvwLyXswdHst7E0)\n",
        "- YouTube Video - [Cornell CS 5787: Applied Machine Learning. Lecture 22. Part 3: Validation Curves](https://youtu.be/wCBuc6Qc_wI?si=WgS0BPB_6b7umRsy)"
      ]
    },
    {
      "cell_type": "code",
      "execution_count": 23,
      "id": "8837effe",
      "metadata": {
        "id": "8837effe"
      },
      "outputs": [],
      "source": []
    },
    {
      "cell_type": "markdown",
      "id": "11ce2dfc",
      "metadata": {
        "id": "11ce2dfc"
      },
      "source": [
        "# [OPTIONAL] Task 4: Run The Experiment!\n",
        "\n",
        "After designing the experiment and setting up the MLFlow UI, we can finally run the experiment! This will take a while, since we are not running only one training but multiple! Four of them to be exact."
      ]
    },
    {
      "cell_type": "code",
      "execution_count": 24,
      "id": "o2h20sPKbK5J",
      "metadata": {
        "id": "o2h20sPKbK5J",
        "colab": {
          "base_uri": "https://localhost:8080/",
          "height": 106
        },
        "outputId": "f5917e96-eb1a-4f38-e5d6-26dfd62d67d8"
      },
      "outputs": [
        {
          "output_type": "error",
          "ename": "SyntaxError",
          "evalue": "invalid syntax (ipython-input-229536384.py, line 2)",
          "traceback": [
            "\u001b[0;36m  File \u001b[0;32m\"/tmp/ipython-input-229536384.py\"\u001b[0;36m, line \u001b[0;32m2\u001b[0m\n\u001b[0;31m    error will happen here\u001b[0m\n\u001b[0m          ^\u001b[0m\n\u001b[0;31mSyntaxError\u001b[0m\u001b[0;31m:\u001b[0m invalid syntax\n"
          ]
        }
      ],
      "source": [
        "# this cell is meant to be error as a gate keeper to prevent unintentionally running the cells below (experiment part)\n",
        "error will happen here"
      ]
    },
    {
      "cell_type": "markdown",
      "id": "0770c979",
      "metadata": {
        "id": "0770c979"
      },
      "source": [
        "## Creating a structured experimental plan\n",
        "\n",
        "We'll use a simple grid of experiments:"
      ]
    },
    {
      "cell_type": "code",
      "execution_count": 25,
      "id": "eb89431a",
      "metadata": {
        "id": "eb89431a"
      },
      "outputs": [],
      "source": [
        "# Define our experiment configurations\n",
        "experiment_configs = [\n",
        "    # Adam optimizer experiments\n",
        "    {'optimizer_type': 'adam', 'learning_rate': 0.0001},\n",
        "    {'optimizer_type': 'adam', 'learning_rate': 0.001},\n",
        "\n",
        "    # SGD optimizer experiments\n",
        "    {'optimizer_type': 'sgd', 'learning_rate': 0.0001},\n",
        "    {'optimizer_type': 'sgd', 'learning_rate': 0.001},\n",
        "]"
      ]
    },
    {
      "cell_type": "code",
      "execution_count": null,
      "id": "f796775f",
      "metadata": {
        "id": "f796775f",
        "colab": {
          "base_uri": "https://localhost:8080/",
          "height": 1000,
          "referenced_widgets": [
            "fe7eab42d58a41ff809d7fa1c6dd4da8",
            "000a1e6be69240cea631a54de3627276",
            "8ac9db4136cd41c592c1697cd9591176",
            "aefa0abf322c4c54aaf122329b3e8c9a",
            "c45540ba1f1a4bc5b52d62fa370ee19d",
            "8e5ae26a01494314bd2799da8f26c0bd",
            "e4e112e2980547ff886a2fc2a88e48e0",
            "686eded6eda84047813c83117f009053",
            "d3971fde2c5f41b4adbf29b26fe6e5c1",
            "e6844cd84c184358ab081030777d3349",
            "a9c331755cea485e9f4ca95e285cae86",
            "6dfc21e93a7c4d22b6f4187347eb8f2e",
            "9d3c176dd8e64c7db60d1c48d2cefe05",
            "11e85a5e02184731a70bc95bc31ad8cd",
            "cf4a7edbc32c4a5fa5c17f063374762d",
            "6ffae483f31b4df8949c73da78d9be72",
            "24fbb5c6a43f4662a1626c0624a8a1e0",
            "423bc0b47b284d62b6168bc9eb7390e0",
            "0670b01db51a46cca9867a1ea947f429",
            "dbd937ebfc3f465196e6e54352685c3b",
            "b91f1d20e4c24b48a1dca23f35a978b3",
            "b3fef393d84541f9b57cd1581dd07b3e",
            "1341b91aeec3403d9c056926f3f314a1",
            "95d9845b16ee43f7a965a8f488912695",
            "3203a18d9e7d4077b411477364b7f8b3",
            "7e326ec0ccb343229f41d874a0fcb6fa",
            "10715c24e03947e89f8d84ef0afc53b5",
            "3c15d73a0c1e4e74929234ae8a56cf89",
            "6d2b7196111b481a93ef99aeec6e1b2b",
            "87a6823ad23d451db2487911a53b0822",
            "0567272c3df942eb8d1a9cc82a8d73f0",
            "1a9a4cb3bb2a47b5b3005f8df2d052c1",
            "dd4a44431dba4bb9bfbd7659dd8ff4ad",
            "5154980b54e64e29b6cba125bd6deae5",
            "841b3afe163a4fe2b213f9a0a1bae4bc",
            "c7dc46b442914d46bf22593f49958bd8",
            "4aab9bf3873047b2a58083a7cf44862e",
            "7ea6d7bd9d0a448081204926cb20994d",
            "cd409975caf64f91a92b5f2f10bf98a9",
            "c451e8845fee4420b8adc362a3462da9",
            "6978a35eaef1448482c7b49b0f358dfe",
            "e77e00013934471fa3f11fb70669a550",
            "908ce36b097443068ac14c3ea3ada1d5",
            "2c74a7788bed45ca878d135eb6e90215",
            "dab98f41b7da4bbdb544a853756dee5b",
            "c02758e7f6fd4f58a16c074ade6db2d5",
            "fbae5abf40464aaba98a0734f94c703f",
            "37cae443f4cf479fa727d5cd8a84fe03",
            "07e1ee93907f4990817943e6aab0d3da",
            "8486aab4a2e348dfae01c344f75bac96",
            "aa59cc9aba984460b4579c32fa0b6b6e",
            "a0233328fc5742e68a1bd2405eaa1ddf",
            "f4f36b7296c546e584fc3f9f1bbe9730",
            "c74d6cd5978e47a6aabb41d89a2dc808",
            "3da7ce6f047145739dad5ee6338d164a",
            "ad9efe1380994afd9b5f95dbf93a07a0",
            "324e8ae3e1f4408fa114d2bd84cc3cfc",
            "1471494ea15c46bba3aab1c73f6c0d12",
            "d6525feb4c5848669687cd6fc00869d3",
            "c6e1b1711f9f4466ae565040c00da1ef",
            "f6428cf8d3d04e42a406246c96c07a15",
            "0a5d5f5f03894ba29d40a143214509cc",
            "c367cade740b4092a812e90d5f833f94",
            "a8dad1689ac74f4894ef590912b735a5",
            "e80029497c99444c8fd6548cf377a412",
            "f925716c0ebd46b384801b1c3b51a7fe",
            "c926b1e5d50640ea884be4936b92df3f",
            "95e31b11c8d844d39c607c0092dd0cc0",
            "dfd1f81858134f8b9e8b0548b6c168e8",
            "f59af3c6fd334cada26358c74ce48c76",
            "8390c88cc6f84c32a92a44c15e41dcdc",
            "afd8f5a75e4842398347c89e749089d7",
            "1c728976d9414027a46866fe2a5fb94e",
            "8a9688f8c2ff4533a0ad9dfc72529e27",
            "6fbbd1d2d49745ea84b05615db90432a",
            "64e2d1b28c244c3bb22bc20b738fa5e4",
            "53e7ad8823af4c5d903e43eade44a025"
          ]
        },
        "outputId": "a5aa88c0-3cc2-4e21-9ac0-9a28b017e8be"
      },
      "outputs": [
        {
          "output_type": "stream",
          "name": "stdout",
          "text": [
            "Starting experiments...\n",
            "\n",
            "Running experiment with adam optimizer, learning rate = 0.0001\n"
          ]
        },
        {
          "output_type": "stream",
          "name": "stderr",
          "text": [
            "/usr/local/lib/python3.12/dist-packages/torchmetrics/utilities/prints.py:43: UserWarning: DiceScore metric currently defaults to `average=micro`, but will change to`average=macro` in the v1.9 release. If you've explicitly set this parameter, you can ignore this warning.\n",
            "  warnings.warn(*args, **kwargs)\n",
            "INFO: 💡 Tip: For seamless cloud uploads and versioning, try installing [litmodels](https://pypi.org/project/litmodels/) to enable LitModelCheckpoint, which syncs automatically with the Lightning model registry.\n",
            "INFO:lightning.pytorch.utilities.rank_zero:💡 Tip: For seamless cloud uploads and versioning, try installing [litmodels](https://pypi.org/project/litmodels/) to enable LitModelCheckpoint, which syncs automatically with the Lightning model registry.\n",
            "INFO: GPU available: True (cuda), used: True\n",
            "INFO:lightning.pytorch.utilities.rank_zero:GPU available: True (cuda), used: True\n",
            "INFO: TPU available: False, using: 0 TPU cores\n",
            "INFO:lightning.pytorch.utilities.rank_zero:TPU available: False, using: 0 TPU cores\n",
            "INFO: HPU available: False, using: 0 HPUs\n",
            "INFO:lightning.pytorch.utilities.rank_zero:HPU available: False, using: 0 HPUs\n",
            "INFO: LOCAL_RANK: 0 - CUDA_VISIBLE_DEVICES: [0]\n",
            "INFO:lightning.pytorch.accelerators.cuda:LOCAL_RANK: 0 - CUDA_VISIBLE_DEVICES: [0]\n",
            "INFO: \n",
            "  | Name        | Type               | Params | Mode \n",
            "-----------------------------------------------------------\n",
            "0 | unet        | UNet               | 31.0 M | train\n",
            "1 | criterion   | BCEWithLogitsLoss  | 0      | train\n",
            "2 | dice_metric | DiceScore          | 0      | train\n",
            "3 | iou_metric  | BinaryJaccardIndex | 0      | train\n",
            "4 | train_dice  | DiceScore          | 0      | train\n",
            "5 | val_dice    | DiceScore          | 0      | train\n",
            "6 | test_dice   | DiceScore          | 0      | train\n",
            "7 | train_iou   | BinaryJaccardIndex | 0      | train\n",
            "8 | val_iou     | BinaryJaccardIndex | 0      | train\n",
            "9 | test_iou    | BinaryJaccardIndex | 0      | train\n",
            "-----------------------------------------------------------\n",
            "31.0 M    Trainable params\n",
            "0         Non-trainable params\n",
            "31.0 M    Total params\n",
            "124.174   Total estimated model params size (MB)\n",
            "99        Modules in train mode\n",
            "0         Modules in eval mode\n",
            "INFO:lightning.pytorch.callbacks.model_summary:\n",
            "  | Name        | Type               | Params | Mode \n",
            "-----------------------------------------------------------\n",
            "0 | unet        | UNet               | 31.0 M | train\n",
            "1 | criterion   | BCEWithLogitsLoss  | 0      | train\n",
            "2 | dice_metric | DiceScore          | 0      | train\n",
            "3 | iou_metric  | BinaryJaccardIndex | 0      | train\n",
            "4 | train_dice  | DiceScore          | 0      | train\n",
            "5 | val_dice    | DiceScore          | 0      | train\n",
            "6 | test_dice   | DiceScore          | 0      | train\n",
            "7 | train_iou   | BinaryJaccardIndex | 0      | train\n",
            "8 | val_iou     | BinaryJaccardIndex | 0      | train\n",
            "9 | test_iou    | BinaryJaccardIndex | 0      | train\n",
            "-----------------------------------------------------------\n",
            "31.0 M    Trainable params\n",
            "0         Non-trainable params\n",
            "31.0 M    Total params\n",
            "124.174   Total estimated model params size (MB)\n",
            "99        Modules in train mode\n",
            "0         Modules in eval mode\n"
          ]
        },
        {
          "output_type": "display_data",
          "data": {
            "text/plain": [
              "Sanity Checking: |          | 0/? [00:00<?, ?it/s]"
            ],
            "application/vnd.jupyter.widget-view+json": {
              "version_major": 2,
              "version_minor": 0,
              "model_id": "fe7eab42d58a41ff809d7fa1c6dd4da8"
            }
          },
          "metadata": {}
        },
        {
          "output_type": "display_data",
          "data": {
            "text/plain": [
              "Training: |          | 0/? [00:00<?, ?it/s]"
            ],
            "application/vnd.jupyter.widget-view+json": {
              "version_major": 2,
              "version_minor": 0,
              "model_id": "6dfc21e93a7c4d22b6f4187347eb8f2e"
            }
          },
          "metadata": {}
        },
        {
          "output_type": "display_data",
          "data": {
            "text/plain": [
              "Validation: |          | 0/? [00:00<?, ?it/s]"
            ],
            "application/vnd.jupyter.widget-view+json": {
              "version_major": 2,
              "version_minor": 0,
              "model_id": "1341b91aeec3403d9c056926f3f314a1"
            }
          },
          "metadata": {}
        },
        {
          "output_type": "display_data",
          "data": {
            "text/plain": [
              "Validation: |          | 0/? [00:00<?, ?it/s]"
            ],
            "application/vnd.jupyter.widget-view+json": {
              "version_major": 2,
              "version_minor": 0,
              "model_id": "5154980b54e64e29b6cba125bd6deae5"
            }
          },
          "metadata": {}
        },
        {
          "output_type": "stream",
          "name": "stderr",
          "text": [
            "INFO: `Trainer.fit` stopped: `max_epochs=2` reached.\n",
            "INFO:lightning.pytorch.utilities.rank_zero:`Trainer.fit` stopped: `max_epochs=2` reached.\n",
            "INFO: LOCAL_RANK: 0 - CUDA_VISIBLE_DEVICES: [0]\n",
            "INFO:lightning.pytorch.accelerators.cuda:LOCAL_RANK: 0 - CUDA_VISIBLE_DEVICES: [0]\n"
          ]
        },
        {
          "output_type": "display_data",
          "data": {
            "text/plain": [
              "Validation: |          | 0/? [00:00<?, ?it/s]"
            ],
            "application/vnd.jupyter.widget-view+json": {
              "version_major": 2,
              "version_minor": 0,
              "model_id": "dab98f41b7da4bbdb544a853756dee5b"
            }
          },
          "metadata": {}
        },
        {
          "output_type": "display_data",
          "data": {
            "text/plain": [
              "┏━━━━━━━━━━━━━━━━━━━━━━━━━━━┳━━━━━━━━━━━━━━━━━━━━━━━━━━━┓\n",
              "┃\u001b[1m \u001b[0m\u001b[1m     Validate metric     \u001b[0m\u001b[1m \u001b[0m┃\u001b[1m \u001b[0m\u001b[1m      DataLoader 0       \u001b[0m\u001b[1m \u001b[0m┃\n",
              "┡━━━━━━━━━━━━━━━━━━━━━━━━━━━╇━━━━━━━━━━━━━━━━━━━━━━━━━━━┩\n",
              "│\u001b[36m \u001b[0m\u001b[36m        val_dice         \u001b[0m\u001b[36m \u001b[0m│\u001b[35m \u001b[0m\u001b[35m           1.0           \u001b[0m\u001b[35m \u001b[0m│\n",
              "│\u001b[36m \u001b[0m\u001b[36m         val_iou         \u001b[0m\u001b[36m \u001b[0m│\u001b[35m \u001b[0m\u001b[35m   0.6863853335380554    \u001b[0m\u001b[35m \u001b[0m│\n",
              "│\u001b[36m \u001b[0m\u001b[36m        val_loss         \u001b[0m\u001b[36m \u001b[0m│\u001b[35m \u001b[0m\u001b[35m   0.2846698462963104    \u001b[0m\u001b[35m \u001b[0m│\n",
              "└───────────────────────────┴───────────────────────────┘\n"
            ],
            "text/html": [
              "<pre style=\"white-space:pre;overflow-x:auto;line-height:normal;font-family:Menlo,'DejaVu Sans Mono',consolas,'Courier New',monospace\">┏━━━━━━━━━━━━━━━━━━━━━━━━━━━┳━━━━━━━━━━━━━━━━━━━━━━━━━━━┓\n",
              "┃<span style=\"font-weight: bold\">      Validate metric      </span>┃<span style=\"font-weight: bold\">       DataLoader 0        </span>┃\n",
              "┡━━━━━━━━━━━━━━━━━━━━━━━━━━━╇━━━━━━━━━━━━━━━━━━━━━━━━━━━┩\n",
              "│<span style=\"color: #008080; text-decoration-color: #008080\">         val_dice          </span>│<span style=\"color: #800080; text-decoration-color: #800080\">            1.0            </span>│\n",
              "│<span style=\"color: #008080; text-decoration-color: #008080\">          val_iou          </span>│<span style=\"color: #800080; text-decoration-color: #800080\">    0.6863853335380554     </span>│\n",
              "│<span style=\"color: #008080; text-decoration-color: #008080\">         val_loss          </span>│<span style=\"color: #800080; text-decoration-color: #800080\">    0.2846698462963104     </span>│\n",
              "└───────────────────────────┴───────────────────────────┘\n",
              "</pre>\n"
            ]
          },
          "metadata": {}
        },
        {
          "output_type": "stream",
          "name": "stderr",
          "text": [
            "2025/08/29 18:53:17 WARNING mlflow.utils.requirements_utils: Found torch version (2.8.0+cu126) contains a local version label (+cu126). MLflow logged a pip requirement for this package as 'torch==2.8.0' without the local version label to make it installable from PyPI. To specify pip requirements containing local version labels, please use `conda_env` or `pip_requirements`.\n",
            "2025/08/29 18:53:35 WARNING mlflow.utils.requirements_utils: Found torchvision version (0.23.0+cu126) contains a local version label (+cu126). MLflow logged a pip requirement for this package as 'torchvision==0.23.0' without the local version label to make it installable from PyPI. To specify pip requirements containing local version labels, please use `conda_env` or `pip_requirements`.\n",
            "\u001b[31m2025/08/29 18:53:35 WARNING mlflow.models.model: Model logged without a signature and input example. Please set `input_example` parameter when logging the model to auto infer the model signature.\u001b[0m\n"
          ]
        },
        {
          "output_type": "stream",
          "name": "stdout",
          "text": [
            "Model saved in run bd66a927541e46b0964a353a1aa64057 with info: <mlflow.models.model.ModelInfo object at 0x7d79b9e28350>\n",
            "\n",
            "Running experiment with adam optimizer, learning rate = 0.001\n"
          ]
        },
        {
          "output_type": "stream",
          "name": "stderr",
          "text": [
            "/usr/local/lib/python3.12/dist-packages/torchmetrics/utilities/prints.py:43: UserWarning: DiceScore metric currently defaults to `average=micro`, but will change to`average=macro` in the v1.9 release. If you've explicitly set this parameter, you can ignore this warning.\n",
            "  warnings.warn(*args, **kwargs)\n",
            "INFO:pytorch_lightning.utilities.rank_zero:💡 Tip: For seamless cloud uploads and versioning, try installing [litmodels](https://pypi.org/project/litmodels/) to enable LitModelCheckpoint, which syncs automatically with the Lightning model registry.\n",
            "INFO:pytorch_lightning.utilities.rank_zero:GPU available: True (cuda), used: True\n",
            "INFO:pytorch_lightning.utilities.rank_zero:TPU available: False, using: 0 TPU cores\n",
            "INFO:pytorch_lightning.utilities.rank_zero:HPU available: False, using: 0 HPUs\n",
            "INFO: LOCAL_RANK: 0 - CUDA_VISIBLE_DEVICES: [0]\n",
            "INFO:lightning.pytorch.accelerators.cuda:LOCAL_RANK: 0 - CUDA_VISIBLE_DEVICES: [0]\n",
            "INFO: \n",
            "  | Name        | Type               | Params | Mode \n",
            "-----------------------------------------------------------\n",
            "0 | unet        | UNet               | 31.0 M | train\n",
            "1 | criterion   | BCEWithLogitsLoss  | 0      | train\n",
            "2 | dice_metric | DiceScore          | 0      | train\n",
            "3 | iou_metric  | BinaryJaccardIndex | 0      | train\n",
            "4 | train_dice  | DiceScore          | 0      | train\n",
            "5 | val_dice    | DiceScore          | 0      | train\n",
            "6 | test_dice   | DiceScore          | 0      | train\n",
            "7 | train_iou   | BinaryJaccardIndex | 0      | train\n",
            "8 | val_iou     | BinaryJaccardIndex | 0      | train\n",
            "9 | test_iou    | BinaryJaccardIndex | 0      | train\n",
            "-----------------------------------------------------------\n",
            "31.0 M    Trainable params\n",
            "0         Non-trainable params\n",
            "31.0 M    Total params\n",
            "124.174   Total estimated model params size (MB)\n",
            "99        Modules in train mode\n",
            "0         Modules in eval mode\n",
            "INFO:lightning.pytorch.callbacks.model_summary:\n",
            "  | Name        | Type               | Params | Mode \n",
            "-----------------------------------------------------------\n",
            "0 | unet        | UNet               | 31.0 M | train\n",
            "1 | criterion   | BCEWithLogitsLoss  | 0      | train\n",
            "2 | dice_metric | DiceScore          | 0      | train\n",
            "3 | iou_metric  | BinaryJaccardIndex | 0      | train\n",
            "4 | train_dice  | DiceScore          | 0      | train\n",
            "5 | val_dice    | DiceScore          | 0      | train\n",
            "6 | test_dice   | DiceScore          | 0      | train\n",
            "7 | train_iou   | BinaryJaccardIndex | 0      | train\n",
            "8 | val_iou     | BinaryJaccardIndex | 0      | train\n",
            "9 | test_iou    | BinaryJaccardIndex | 0      | train\n",
            "-----------------------------------------------------------\n",
            "31.0 M    Trainable params\n",
            "0         Non-trainable params\n",
            "31.0 M    Total params\n",
            "124.174   Total estimated model params size (MB)\n",
            "99        Modules in train mode\n",
            "0         Modules in eval mode\n"
          ]
        },
        {
          "output_type": "display_data",
          "data": {
            "text/plain": [
              "Sanity Checking: |          | 0/? [00:00<?, ?it/s]"
            ],
            "application/vnd.jupyter.widget-view+json": {
              "version_major": 2,
              "version_minor": 0,
              "model_id": "ad9efe1380994afd9b5f95dbf93a07a0"
            }
          },
          "metadata": {}
        },
        {
          "output_type": "display_data",
          "data": {
            "text/plain": [
              "Training: |          | 0/? [00:00<?, ?it/s]"
            ],
            "application/vnd.jupyter.widget-view+json": {
              "version_major": 2,
              "version_minor": 0,
              "model_id": "c926b1e5d50640ea884be4936b92df3f"
            }
          },
          "metadata": {}
        }
      ],
      "source": [
        "import gc\n",
        "\n",
        "def empty_cache():#To avoid GPU memory issues\n",
        "    gc.collect()\n",
        "    torch.cuda.empty_cache()\n",
        "# Run all experiments defined in our configuration grid\n",
        "results = []\n",
        "\n",
        "# We'll use fewer epochs for demonstration purposes\n",
        "max_epochs = 2\n",
        "empty_cache() #To avoid GPU memory issues\n",
        "print(\"Starting experiments...\")\n",
        "for config in experiment_configs:\n",
        "    optimizer_type = config['optimizer_type']\n",
        "    learning_rate = config['learning_rate']\n",
        "\n",
        "    print(f\"\\nRunning experiment with {optimizer_type} optimizer, learning rate = {learning_rate}\")\n",
        "\n",
        "    # Run the experiment and collect results\n",
        "    result = run_experiment(\n",
        "        optimizer_type=optimizer_type,\n",
        "        learning_rate=learning_rate,\n",
        "        max_epochs=max_epochs\n",
        "    )\n",
        "    empty_cache() #To avoid GPU memory issues\n",
        "    # Store results for summary\n",
        "    results.append(result)\n",
        "\n",
        "    # # Display key metrics\n",
        "    # print(f\"Results: val_loss={result['val_loss']:.4f}, val_dice={result['val_dice']:.4f}, val_iou={result['val_iou']:.4f}\")\n",
        "\n",
        "print(\"\\nAll experiments completed!\")"
      ]
    },
    {
      "cell_type": "code",
      "execution_count": null,
      "id": "svbpzCatXt50",
      "metadata": {
        "id": "svbpzCatXt50"
      },
      "outputs": [],
      "source": [
        "results"
      ]
    },
    {
      "cell_type": "markdown",
      "source": [
        "# Clean UP"
      ],
      "metadata": {
        "id": "J5xfsVXfJOzF"
      },
      "id": "J5xfsVXfJOzF"
    },
    {
      "cell_type": "code",
      "execution_count": null,
      "id": "89fe7261",
      "metadata": {
        "id": "89fe7261"
      },
      "outputs": [],
      "source": [
        "shutil.rmtree(src_dir)\n",
        "print(f\"All data removed from {src_dir}\")"
      ]
    }
  ],
  "metadata": {
    "accelerator": "GPU",
    "colab": {
      "gpuType": "T4",
      "provenance": []
    },
    "kernelspec": {
      "display_name": "general (3.12.3)",
      "language": "python",
      "name": "python3"
    },
    "language_info": {
      "codemirror_mode": {
        "name": "ipython",
        "version": 3
      },
      "file_extension": ".py",
      "mimetype": "text/x-python",
      "name": "python",
      "nbconvert_exporter": "python",
      "pygments_lexer": "ipython3",
      "version": "3.12.3"
    },
    "widgets": {
      "application/vnd.jupyter.widget-state+json": {
        "fe7eab42d58a41ff809d7fa1c6dd4da8": {
          "model_module": "@jupyter-widgets/controls",
          "model_name": "HBoxModel",
          "model_module_version": "1.5.0",
          "state": {
            "_dom_classes": [],
            "_model_module": "@jupyter-widgets/controls",
            "_model_module_version": "1.5.0",
            "_model_name": "HBoxModel",
            "_view_count": null,
            "_view_module": "@jupyter-widgets/controls",
            "_view_module_version": "1.5.0",
            "_view_name": "HBoxView",
            "box_style": "",
            "children": [
              "IPY_MODEL_000a1e6be69240cea631a54de3627276",
              "IPY_MODEL_8ac9db4136cd41c592c1697cd9591176",
              "IPY_MODEL_aefa0abf322c4c54aaf122329b3e8c9a"
            ],
            "layout": "IPY_MODEL_c45540ba1f1a4bc5b52d62fa370ee19d"
          }
        },
        "000a1e6be69240cea631a54de3627276": {
          "model_module": "@jupyter-widgets/controls",
          "model_name": "HTMLModel",
          "model_module_version": "1.5.0",
          "state": {
            "_dom_classes": [],
            "_model_module": "@jupyter-widgets/controls",
            "_model_module_version": "1.5.0",
            "_model_name": "HTMLModel",
            "_view_count": null,
            "_view_module": "@jupyter-widgets/controls",
            "_view_module_version": "1.5.0",
            "_view_name": "HTMLView",
            "description": "",
            "description_tooltip": null,
            "layout": "IPY_MODEL_8e5ae26a01494314bd2799da8f26c0bd",
            "placeholder": "​",
            "style": "IPY_MODEL_e4e112e2980547ff886a2fc2a88e48e0",
            "value": "Sanity Checking DataLoader 0: 100%"
          }
        },
        "8ac9db4136cd41c592c1697cd9591176": {
          "model_module": "@jupyter-widgets/controls",
          "model_name": "FloatProgressModel",
          "model_module_version": "1.5.0",
          "state": {
            "_dom_classes": [],
            "_model_module": "@jupyter-widgets/controls",
            "_model_module_version": "1.5.0",
            "_model_name": "FloatProgressModel",
            "_view_count": null,
            "_view_module": "@jupyter-widgets/controls",
            "_view_module_version": "1.5.0",
            "_view_name": "ProgressView",
            "bar_style": "",
            "description": "",
            "description_tooltip": null,
            "layout": "IPY_MODEL_686eded6eda84047813c83117f009053",
            "max": 2,
            "min": 0,
            "orientation": "horizontal",
            "style": "IPY_MODEL_d3971fde2c5f41b4adbf29b26fe6e5c1",
            "value": 2
          }
        },
        "aefa0abf322c4c54aaf122329b3e8c9a": {
          "model_module": "@jupyter-widgets/controls",
          "model_name": "HTMLModel",
          "model_module_version": "1.5.0",
          "state": {
            "_dom_classes": [],
            "_model_module": "@jupyter-widgets/controls",
            "_model_module_version": "1.5.0",
            "_model_name": "HTMLModel",
            "_view_count": null,
            "_view_module": "@jupyter-widgets/controls",
            "_view_module_version": "1.5.0",
            "_view_name": "HTMLView",
            "description": "",
            "description_tooltip": null,
            "layout": "IPY_MODEL_e6844cd84c184358ab081030777d3349",
            "placeholder": "​",
            "style": "IPY_MODEL_a9c331755cea485e9f4ca95e285cae86",
            "value": " 2/2 [00:02&lt;00:00,  0.93it/s]"
          }
        },
        "c45540ba1f1a4bc5b52d62fa370ee19d": {
          "model_module": "@jupyter-widgets/base",
          "model_name": "LayoutModel",
          "model_module_version": "1.2.0",
          "state": {
            "_model_module": "@jupyter-widgets/base",
            "_model_module_version": "1.2.0",
            "_model_name": "LayoutModel",
            "_view_count": null,
            "_view_module": "@jupyter-widgets/base",
            "_view_module_version": "1.2.0",
            "_view_name": "LayoutView",
            "align_content": null,
            "align_items": null,
            "align_self": null,
            "border": null,
            "bottom": null,
            "display": "inline-flex",
            "flex": null,
            "flex_flow": "row wrap",
            "grid_area": null,
            "grid_auto_columns": null,
            "grid_auto_flow": null,
            "grid_auto_rows": null,
            "grid_column": null,
            "grid_gap": null,
            "grid_row": null,
            "grid_template_areas": null,
            "grid_template_columns": null,
            "grid_template_rows": null,
            "height": null,
            "justify_content": null,
            "justify_items": null,
            "left": null,
            "margin": null,
            "max_height": null,
            "max_width": null,
            "min_height": null,
            "min_width": null,
            "object_fit": null,
            "object_position": null,
            "order": null,
            "overflow": null,
            "overflow_x": null,
            "overflow_y": null,
            "padding": null,
            "right": null,
            "top": null,
            "visibility": "hidden",
            "width": "100%"
          }
        },
        "8e5ae26a01494314bd2799da8f26c0bd": {
          "model_module": "@jupyter-widgets/base",
          "model_name": "LayoutModel",
          "model_module_version": "1.2.0",
          "state": {
            "_model_module": "@jupyter-widgets/base",
            "_model_module_version": "1.2.0",
            "_model_name": "LayoutModel",
            "_view_count": null,
            "_view_module": "@jupyter-widgets/base",
            "_view_module_version": "1.2.0",
            "_view_name": "LayoutView",
            "align_content": null,
            "align_items": null,
            "align_self": null,
            "border": null,
            "bottom": null,
            "display": null,
            "flex": null,
            "flex_flow": null,
            "grid_area": null,
            "grid_auto_columns": null,
            "grid_auto_flow": null,
            "grid_auto_rows": null,
            "grid_column": null,
            "grid_gap": null,
            "grid_row": null,
            "grid_template_areas": null,
            "grid_template_columns": null,
            "grid_template_rows": null,
            "height": null,
            "justify_content": null,
            "justify_items": null,
            "left": null,
            "margin": null,
            "max_height": null,
            "max_width": null,
            "min_height": null,
            "min_width": null,
            "object_fit": null,
            "object_position": null,
            "order": null,
            "overflow": null,
            "overflow_x": null,
            "overflow_y": null,
            "padding": null,
            "right": null,
            "top": null,
            "visibility": null,
            "width": null
          }
        },
        "e4e112e2980547ff886a2fc2a88e48e0": {
          "model_module": "@jupyter-widgets/controls",
          "model_name": "DescriptionStyleModel",
          "model_module_version": "1.5.0",
          "state": {
            "_model_module": "@jupyter-widgets/controls",
            "_model_module_version": "1.5.0",
            "_model_name": "DescriptionStyleModel",
            "_view_count": null,
            "_view_module": "@jupyter-widgets/base",
            "_view_module_version": "1.2.0",
            "_view_name": "StyleView",
            "description_width": ""
          }
        },
        "686eded6eda84047813c83117f009053": {
          "model_module": "@jupyter-widgets/base",
          "model_name": "LayoutModel",
          "model_module_version": "1.2.0",
          "state": {
            "_model_module": "@jupyter-widgets/base",
            "_model_module_version": "1.2.0",
            "_model_name": "LayoutModel",
            "_view_count": null,
            "_view_module": "@jupyter-widgets/base",
            "_view_module_version": "1.2.0",
            "_view_name": "LayoutView",
            "align_content": null,
            "align_items": null,
            "align_self": null,
            "border": null,
            "bottom": null,
            "display": null,
            "flex": "2",
            "flex_flow": null,
            "grid_area": null,
            "grid_auto_columns": null,
            "grid_auto_flow": null,
            "grid_auto_rows": null,
            "grid_column": null,
            "grid_gap": null,
            "grid_row": null,
            "grid_template_areas": null,
            "grid_template_columns": null,
            "grid_template_rows": null,
            "height": null,
            "justify_content": null,
            "justify_items": null,
            "left": null,
            "margin": null,
            "max_height": null,
            "max_width": null,
            "min_height": null,
            "min_width": null,
            "object_fit": null,
            "object_position": null,
            "order": null,
            "overflow": null,
            "overflow_x": null,
            "overflow_y": null,
            "padding": null,
            "right": null,
            "top": null,
            "visibility": null,
            "width": null
          }
        },
        "d3971fde2c5f41b4adbf29b26fe6e5c1": {
          "model_module": "@jupyter-widgets/controls",
          "model_name": "ProgressStyleModel",
          "model_module_version": "1.5.0",
          "state": {
            "_model_module": "@jupyter-widgets/controls",
            "_model_module_version": "1.5.0",
            "_model_name": "ProgressStyleModel",
            "_view_count": null,
            "_view_module": "@jupyter-widgets/base",
            "_view_module_version": "1.2.0",
            "_view_name": "StyleView",
            "bar_color": null,
            "description_width": ""
          }
        },
        "e6844cd84c184358ab081030777d3349": {
          "model_module": "@jupyter-widgets/base",
          "model_name": "LayoutModel",
          "model_module_version": "1.2.0",
          "state": {
            "_model_module": "@jupyter-widgets/base",
            "_model_module_version": "1.2.0",
            "_model_name": "LayoutModel",
            "_view_count": null,
            "_view_module": "@jupyter-widgets/base",
            "_view_module_version": "1.2.0",
            "_view_name": "LayoutView",
            "align_content": null,
            "align_items": null,
            "align_self": null,
            "border": null,
            "bottom": null,
            "display": null,
            "flex": null,
            "flex_flow": null,
            "grid_area": null,
            "grid_auto_columns": null,
            "grid_auto_flow": null,
            "grid_auto_rows": null,
            "grid_column": null,
            "grid_gap": null,
            "grid_row": null,
            "grid_template_areas": null,
            "grid_template_columns": null,
            "grid_template_rows": null,
            "height": null,
            "justify_content": null,
            "justify_items": null,
            "left": null,
            "margin": null,
            "max_height": null,
            "max_width": null,
            "min_height": null,
            "min_width": null,
            "object_fit": null,
            "object_position": null,
            "order": null,
            "overflow": null,
            "overflow_x": null,
            "overflow_y": null,
            "padding": null,
            "right": null,
            "top": null,
            "visibility": null,
            "width": null
          }
        },
        "a9c331755cea485e9f4ca95e285cae86": {
          "model_module": "@jupyter-widgets/controls",
          "model_name": "DescriptionStyleModel",
          "model_module_version": "1.5.0",
          "state": {
            "_model_module": "@jupyter-widgets/controls",
            "_model_module_version": "1.5.0",
            "_model_name": "DescriptionStyleModel",
            "_view_count": null,
            "_view_module": "@jupyter-widgets/base",
            "_view_module_version": "1.2.0",
            "_view_name": "StyleView",
            "description_width": ""
          }
        },
        "6dfc21e93a7c4d22b6f4187347eb8f2e": {
          "model_module": "@jupyter-widgets/controls",
          "model_name": "HBoxModel",
          "model_module_version": "1.5.0",
          "state": {
            "_dom_classes": [],
            "_model_module": "@jupyter-widgets/controls",
            "_model_module_version": "1.5.0",
            "_model_name": "HBoxModel",
            "_view_count": null,
            "_view_module": "@jupyter-widgets/controls",
            "_view_module_version": "1.5.0",
            "_view_name": "HBoxView",
            "box_style": "",
            "children": [
              "IPY_MODEL_9d3c176dd8e64c7db60d1c48d2cefe05",
              "IPY_MODEL_11e85a5e02184731a70bc95bc31ad8cd",
              "IPY_MODEL_cf4a7edbc32c4a5fa5c17f063374762d"
            ],
            "layout": "IPY_MODEL_6ffae483f31b4df8949c73da78d9be72"
          }
        },
        "9d3c176dd8e64c7db60d1c48d2cefe05": {
          "model_module": "@jupyter-widgets/controls",
          "model_name": "HTMLModel",
          "model_module_version": "1.5.0",
          "state": {
            "_dom_classes": [],
            "_model_module": "@jupyter-widgets/controls",
            "_model_module_version": "1.5.0",
            "_model_name": "HTMLModel",
            "_view_count": null,
            "_view_module": "@jupyter-widgets/controls",
            "_view_module_version": "1.5.0",
            "_view_name": "HTMLView",
            "description": "",
            "description_tooltip": null,
            "layout": "IPY_MODEL_24fbb5c6a43f4662a1626c0624a8a1e0",
            "placeholder": "​",
            "style": "IPY_MODEL_423bc0b47b284d62b6168bc9eb7390e0",
            "value": "Epoch 1: 100%"
          }
        },
        "11e85a5e02184731a70bc95bc31ad8cd": {
          "model_module": "@jupyter-widgets/controls",
          "model_name": "FloatProgressModel",
          "model_module_version": "1.5.0",
          "state": {
            "_dom_classes": [],
            "_model_module": "@jupyter-widgets/controls",
            "_model_module_version": "1.5.0",
            "_model_name": "FloatProgressModel",
            "_view_count": null,
            "_view_module": "@jupyter-widgets/controls",
            "_view_module_version": "1.5.0",
            "_view_name": "ProgressView",
            "bar_style": "success",
            "description": "",
            "description_tooltip": null,
            "layout": "IPY_MODEL_0670b01db51a46cca9867a1ea947f429",
            "max": 396,
            "min": 0,
            "orientation": "horizontal",
            "style": "IPY_MODEL_dbd937ebfc3f465196e6e54352685c3b",
            "value": 396
          }
        },
        "cf4a7edbc32c4a5fa5c17f063374762d": {
          "model_module": "@jupyter-widgets/controls",
          "model_name": "HTMLModel",
          "model_module_version": "1.5.0",
          "state": {
            "_dom_classes": [],
            "_model_module": "@jupyter-widgets/controls",
            "_model_module_version": "1.5.0",
            "_model_name": "HTMLModel",
            "_view_count": null,
            "_view_module": "@jupyter-widgets/controls",
            "_view_module_version": "1.5.0",
            "_view_name": "HTMLView",
            "description": "",
            "description_tooltip": null,
            "layout": "IPY_MODEL_b91f1d20e4c24b48a1dca23f35a978b3",
            "placeholder": "​",
            "style": "IPY_MODEL_b3fef393d84541f9b57cd1581dd07b3e",
            "value": " 396/396 [03:25&lt;00:00,  1.93it/s, v_num=0, train_loss=0.253, train_dice=1.000, train_iou=0.523, val_loss=0.285, val_dice=1.000, val_iou=0.686]"
          }
        },
        "6ffae483f31b4df8949c73da78d9be72": {
          "model_module": "@jupyter-widgets/base",
          "model_name": "LayoutModel",
          "model_module_version": "1.2.0",
          "state": {
            "_model_module": "@jupyter-widgets/base",
            "_model_module_version": "1.2.0",
            "_model_name": "LayoutModel",
            "_view_count": null,
            "_view_module": "@jupyter-widgets/base",
            "_view_module_version": "1.2.0",
            "_view_name": "LayoutView",
            "align_content": null,
            "align_items": null,
            "align_self": null,
            "border": null,
            "bottom": null,
            "display": "inline-flex",
            "flex": null,
            "flex_flow": "row wrap",
            "grid_area": null,
            "grid_auto_columns": null,
            "grid_auto_flow": null,
            "grid_auto_rows": null,
            "grid_column": null,
            "grid_gap": null,
            "grid_row": null,
            "grid_template_areas": null,
            "grid_template_columns": null,
            "grid_template_rows": null,
            "height": null,
            "justify_content": null,
            "justify_items": null,
            "left": null,
            "margin": null,
            "max_height": null,
            "max_width": null,
            "min_height": null,
            "min_width": null,
            "object_fit": null,
            "object_position": null,
            "order": null,
            "overflow": null,
            "overflow_x": null,
            "overflow_y": null,
            "padding": null,
            "right": null,
            "top": null,
            "visibility": null,
            "width": "100%"
          }
        },
        "24fbb5c6a43f4662a1626c0624a8a1e0": {
          "model_module": "@jupyter-widgets/base",
          "model_name": "LayoutModel",
          "model_module_version": "1.2.0",
          "state": {
            "_model_module": "@jupyter-widgets/base",
            "_model_module_version": "1.2.0",
            "_model_name": "LayoutModel",
            "_view_count": null,
            "_view_module": "@jupyter-widgets/base",
            "_view_module_version": "1.2.0",
            "_view_name": "LayoutView",
            "align_content": null,
            "align_items": null,
            "align_self": null,
            "border": null,
            "bottom": null,
            "display": null,
            "flex": null,
            "flex_flow": null,
            "grid_area": null,
            "grid_auto_columns": null,
            "grid_auto_flow": null,
            "grid_auto_rows": null,
            "grid_column": null,
            "grid_gap": null,
            "grid_row": null,
            "grid_template_areas": null,
            "grid_template_columns": null,
            "grid_template_rows": null,
            "height": null,
            "justify_content": null,
            "justify_items": null,
            "left": null,
            "margin": null,
            "max_height": null,
            "max_width": null,
            "min_height": null,
            "min_width": null,
            "object_fit": null,
            "object_position": null,
            "order": null,
            "overflow": null,
            "overflow_x": null,
            "overflow_y": null,
            "padding": null,
            "right": null,
            "top": null,
            "visibility": null,
            "width": null
          }
        },
        "423bc0b47b284d62b6168bc9eb7390e0": {
          "model_module": "@jupyter-widgets/controls",
          "model_name": "DescriptionStyleModel",
          "model_module_version": "1.5.0",
          "state": {
            "_model_module": "@jupyter-widgets/controls",
            "_model_module_version": "1.5.0",
            "_model_name": "DescriptionStyleModel",
            "_view_count": null,
            "_view_module": "@jupyter-widgets/base",
            "_view_module_version": "1.2.0",
            "_view_name": "StyleView",
            "description_width": ""
          }
        },
        "0670b01db51a46cca9867a1ea947f429": {
          "model_module": "@jupyter-widgets/base",
          "model_name": "LayoutModel",
          "model_module_version": "1.2.0",
          "state": {
            "_model_module": "@jupyter-widgets/base",
            "_model_module_version": "1.2.0",
            "_model_name": "LayoutModel",
            "_view_count": null,
            "_view_module": "@jupyter-widgets/base",
            "_view_module_version": "1.2.0",
            "_view_name": "LayoutView",
            "align_content": null,
            "align_items": null,
            "align_self": null,
            "border": null,
            "bottom": null,
            "display": null,
            "flex": "2",
            "flex_flow": null,
            "grid_area": null,
            "grid_auto_columns": null,
            "grid_auto_flow": null,
            "grid_auto_rows": null,
            "grid_column": null,
            "grid_gap": null,
            "grid_row": null,
            "grid_template_areas": null,
            "grid_template_columns": null,
            "grid_template_rows": null,
            "height": null,
            "justify_content": null,
            "justify_items": null,
            "left": null,
            "margin": null,
            "max_height": null,
            "max_width": null,
            "min_height": null,
            "min_width": null,
            "object_fit": null,
            "object_position": null,
            "order": null,
            "overflow": null,
            "overflow_x": null,
            "overflow_y": null,
            "padding": null,
            "right": null,
            "top": null,
            "visibility": null,
            "width": null
          }
        },
        "dbd937ebfc3f465196e6e54352685c3b": {
          "model_module": "@jupyter-widgets/controls",
          "model_name": "ProgressStyleModel",
          "model_module_version": "1.5.0",
          "state": {
            "_model_module": "@jupyter-widgets/controls",
            "_model_module_version": "1.5.0",
            "_model_name": "ProgressStyleModel",
            "_view_count": null,
            "_view_module": "@jupyter-widgets/base",
            "_view_module_version": "1.2.0",
            "_view_name": "StyleView",
            "bar_color": null,
            "description_width": ""
          }
        },
        "b91f1d20e4c24b48a1dca23f35a978b3": {
          "model_module": "@jupyter-widgets/base",
          "model_name": "LayoutModel",
          "model_module_version": "1.2.0",
          "state": {
            "_model_module": "@jupyter-widgets/base",
            "_model_module_version": "1.2.0",
            "_model_name": "LayoutModel",
            "_view_count": null,
            "_view_module": "@jupyter-widgets/base",
            "_view_module_version": "1.2.0",
            "_view_name": "LayoutView",
            "align_content": null,
            "align_items": null,
            "align_self": null,
            "border": null,
            "bottom": null,
            "display": null,
            "flex": null,
            "flex_flow": null,
            "grid_area": null,
            "grid_auto_columns": null,
            "grid_auto_flow": null,
            "grid_auto_rows": null,
            "grid_column": null,
            "grid_gap": null,
            "grid_row": null,
            "grid_template_areas": null,
            "grid_template_columns": null,
            "grid_template_rows": null,
            "height": null,
            "justify_content": null,
            "justify_items": null,
            "left": null,
            "margin": null,
            "max_height": null,
            "max_width": null,
            "min_height": null,
            "min_width": null,
            "object_fit": null,
            "object_position": null,
            "order": null,
            "overflow": null,
            "overflow_x": null,
            "overflow_y": null,
            "padding": null,
            "right": null,
            "top": null,
            "visibility": null,
            "width": null
          }
        },
        "b3fef393d84541f9b57cd1581dd07b3e": {
          "model_module": "@jupyter-widgets/controls",
          "model_name": "DescriptionStyleModel",
          "model_module_version": "1.5.0",
          "state": {
            "_model_module": "@jupyter-widgets/controls",
            "_model_module_version": "1.5.0",
            "_model_name": "DescriptionStyleModel",
            "_view_count": null,
            "_view_module": "@jupyter-widgets/base",
            "_view_module_version": "1.2.0",
            "_view_name": "StyleView",
            "description_width": ""
          }
        },
        "1341b91aeec3403d9c056926f3f314a1": {
          "model_module": "@jupyter-widgets/controls",
          "model_name": "HBoxModel",
          "model_module_version": "1.5.0",
          "state": {
            "_dom_classes": [],
            "_model_module": "@jupyter-widgets/controls",
            "_model_module_version": "1.5.0",
            "_model_name": "HBoxModel",
            "_view_count": null,
            "_view_module": "@jupyter-widgets/controls",
            "_view_module_version": "1.5.0",
            "_view_name": "HBoxView",
            "box_style": "",
            "children": [
              "IPY_MODEL_95d9845b16ee43f7a965a8f488912695",
              "IPY_MODEL_3203a18d9e7d4077b411477364b7f8b3",
              "IPY_MODEL_7e326ec0ccb343229f41d874a0fcb6fa"
            ],
            "layout": "IPY_MODEL_10715c24e03947e89f8d84ef0afc53b5"
          }
        },
        "95d9845b16ee43f7a965a8f488912695": {
          "model_module": "@jupyter-widgets/controls",
          "model_name": "HTMLModel",
          "model_module_version": "1.5.0",
          "state": {
            "_dom_classes": [],
            "_model_module": "@jupyter-widgets/controls",
            "_model_module_version": "1.5.0",
            "_model_name": "HTMLModel",
            "_view_count": null,
            "_view_module": "@jupyter-widgets/controls",
            "_view_module_version": "1.5.0",
            "_view_name": "HTMLView",
            "description": "",
            "description_tooltip": null,
            "layout": "IPY_MODEL_3c15d73a0c1e4e74929234ae8a56cf89",
            "placeholder": "​",
            "style": "IPY_MODEL_6d2b7196111b481a93ef99aeec6e1b2b",
            "value": "Validation DataLoader 0: 100%"
          }
        },
        "3203a18d9e7d4077b411477364b7f8b3": {
          "model_module": "@jupyter-widgets/controls",
          "model_name": "FloatProgressModel",
          "model_module_version": "1.5.0",
          "state": {
            "_dom_classes": [],
            "_model_module": "@jupyter-widgets/controls",
            "_model_module_version": "1.5.0",
            "_model_name": "FloatProgressModel",
            "_view_count": null,
            "_view_module": "@jupyter-widgets/controls",
            "_view_module_version": "1.5.0",
            "_view_name": "ProgressView",
            "bar_style": "",
            "description": "",
            "description_tooltip": null,
            "layout": "IPY_MODEL_87a6823ad23d451db2487911a53b0822",
            "max": 99,
            "min": 0,
            "orientation": "horizontal",
            "style": "IPY_MODEL_0567272c3df942eb8d1a9cc82a8d73f0",
            "value": 99
          }
        },
        "7e326ec0ccb343229f41d874a0fcb6fa": {
          "model_module": "@jupyter-widgets/controls",
          "model_name": "HTMLModel",
          "model_module_version": "1.5.0",
          "state": {
            "_dom_classes": [],
            "_model_module": "@jupyter-widgets/controls",
            "_model_module_version": "1.5.0",
            "_model_name": "HTMLModel",
            "_view_count": null,
            "_view_module": "@jupyter-widgets/controls",
            "_view_module_version": "1.5.0",
            "_view_name": "HTMLView",
            "description": "",
            "description_tooltip": null,
            "layout": "IPY_MODEL_1a9a4cb3bb2a47b5b3005f8df2d052c1",
            "placeholder": "​",
            "style": "IPY_MODEL_dd4a44431dba4bb9bfbd7659dd8ff4ad",
            "value": " 99/99 [00:16&lt;00:00,  5.84it/s]"
          }
        },
        "10715c24e03947e89f8d84ef0afc53b5": {
          "model_module": "@jupyter-widgets/base",
          "model_name": "LayoutModel",
          "model_module_version": "1.2.0",
          "state": {
            "_model_module": "@jupyter-widgets/base",
            "_model_module_version": "1.2.0",
            "_model_name": "LayoutModel",
            "_view_count": null,
            "_view_module": "@jupyter-widgets/base",
            "_view_module_version": "1.2.0",
            "_view_name": "LayoutView",
            "align_content": null,
            "align_items": null,
            "align_self": null,
            "border": null,
            "bottom": null,
            "display": "inline-flex",
            "flex": null,
            "flex_flow": "row wrap",
            "grid_area": null,
            "grid_auto_columns": null,
            "grid_auto_flow": null,
            "grid_auto_rows": null,
            "grid_column": null,
            "grid_gap": null,
            "grid_row": null,
            "grid_template_areas": null,
            "grid_template_columns": null,
            "grid_template_rows": null,
            "height": null,
            "justify_content": null,
            "justify_items": null,
            "left": null,
            "margin": null,
            "max_height": null,
            "max_width": null,
            "min_height": null,
            "min_width": null,
            "object_fit": null,
            "object_position": null,
            "order": null,
            "overflow": null,
            "overflow_x": null,
            "overflow_y": null,
            "padding": null,
            "right": null,
            "top": null,
            "visibility": "hidden",
            "width": "100%"
          }
        },
        "3c15d73a0c1e4e74929234ae8a56cf89": {
          "model_module": "@jupyter-widgets/base",
          "model_name": "LayoutModel",
          "model_module_version": "1.2.0",
          "state": {
            "_model_module": "@jupyter-widgets/base",
            "_model_module_version": "1.2.0",
            "_model_name": "LayoutModel",
            "_view_count": null,
            "_view_module": "@jupyter-widgets/base",
            "_view_module_version": "1.2.0",
            "_view_name": "LayoutView",
            "align_content": null,
            "align_items": null,
            "align_self": null,
            "border": null,
            "bottom": null,
            "display": null,
            "flex": null,
            "flex_flow": null,
            "grid_area": null,
            "grid_auto_columns": null,
            "grid_auto_flow": null,
            "grid_auto_rows": null,
            "grid_column": null,
            "grid_gap": null,
            "grid_row": null,
            "grid_template_areas": null,
            "grid_template_columns": null,
            "grid_template_rows": null,
            "height": null,
            "justify_content": null,
            "justify_items": null,
            "left": null,
            "margin": null,
            "max_height": null,
            "max_width": null,
            "min_height": null,
            "min_width": null,
            "object_fit": null,
            "object_position": null,
            "order": null,
            "overflow": null,
            "overflow_x": null,
            "overflow_y": null,
            "padding": null,
            "right": null,
            "top": null,
            "visibility": null,
            "width": null
          }
        },
        "6d2b7196111b481a93ef99aeec6e1b2b": {
          "model_module": "@jupyter-widgets/controls",
          "model_name": "DescriptionStyleModel",
          "model_module_version": "1.5.0",
          "state": {
            "_model_module": "@jupyter-widgets/controls",
            "_model_module_version": "1.5.0",
            "_model_name": "DescriptionStyleModel",
            "_view_count": null,
            "_view_module": "@jupyter-widgets/base",
            "_view_module_version": "1.2.0",
            "_view_name": "StyleView",
            "description_width": ""
          }
        },
        "87a6823ad23d451db2487911a53b0822": {
          "model_module": "@jupyter-widgets/base",
          "model_name": "LayoutModel",
          "model_module_version": "1.2.0",
          "state": {
            "_model_module": "@jupyter-widgets/base",
            "_model_module_version": "1.2.0",
            "_model_name": "LayoutModel",
            "_view_count": null,
            "_view_module": "@jupyter-widgets/base",
            "_view_module_version": "1.2.0",
            "_view_name": "LayoutView",
            "align_content": null,
            "align_items": null,
            "align_self": null,
            "border": null,
            "bottom": null,
            "display": null,
            "flex": "2",
            "flex_flow": null,
            "grid_area": null,
            "grid_auto_columns": null,
            "grid_auto_flow": null,
            "grid_auto_rows": null,
            "grid_column": null,
            "grid_gap": null,
            "grid_row": null,
            "grid_template_areas": null,
            "grid_template_columns": null,
            "grid_template_rows": null,
            "height": null,
            "justify_content": null,
            "justify_items": null,
            "left": null,
            "margin": null,
            "max_height": null,
            "max_width": null,
            "min_height": null,
            "min_width": null,
            "object_fit": null,
            "object_position": null,
            "order": null,
            "overflow": null,
            "overflow_x": null,
            "overflow_y": null,
            "padding": null,
            "right": null,
            "top": null,
            "visibility": null,
            "width": null
          }
        },
        "0567272c3df942eb8d1a9cc82a8d73f0": {
          "model_module": "@jupyter-widgets/controls",
          "model_name": "ProgressStyleModel",
          "model_module_version": "1.5.0",
          "state": {
            "_model_module": "@jupyter-widgets/controls",
            "_model_module_version": "1.5.0",
            "_model_name": "ProgressStyleModel",
            "_view_count": null,
            "_view_module": "@jupyter-widgets/base",
            "_view_module_version": "1.2.0",
            "_view_name": "StyleView",
            "bar_color": null,
            "description_width": ""
          }
        },
        "1a9a4cb3bb2a47b5b3005f8df2d052c1": {
          "model_module": "@jupyter-widgets/base",
          "model_name": "LayoutModel",
          "model_module_version": "1.2.0",
          "state": {
            "_model_module": "@jupyter-widgets/base",
            "_model_module_version": "1.2.0",
            "_model_name": "LayoutModel",
            "_view_count": null,
            "_view_module": "@jupyter-widgets/base",
            "_view_module_version": "1.2.0",
            "_view_name": "LayoutView",
            "align_content": null,
            "align_items": null,
            "align_self": null,
            "border": null,
            "bottom": null,
            "display": null,
            "flex": null,
            "flex_flow": null,
            "grid_area": null,
            "grid_auto_columns": null,
            "grid_auto_flow": null,
            "grid_auto_rows": null,
            "grid_column": null,
            "grid_gap": null,
            "grid_row": null,
            "grid_template_areas": null,
            "grid_template_columns": null,
            "grid_template_rows": null,
            "height": null,
            "justify_content": null,
            "justify_items": null,
            "left": null,
            "margin": null,
            "max_height": null,
            "max_width": null,
            "min_height": null,
            "min_width": null,
            "object_fit": null,
            "object_position": null,
            "order": null,
            "overflow": null,
            "overflow_x": null,
            "overflow_y": null,
            "padding": null,
            "right": null,
            "top": null,
            "visibility": null,
            "width": null
          }
        },
        "dd4a44431dba4bb9bfbd7659dd8ff4ad": {
          "model_module": "@jupyter-widgets/controls",
          "model_name": "DescriptionStyleModel",
          "model_module_version": "1.5.0",
          "state": {
            "_model_module": "@jupyter-widgets/controls",
            "_model_module_version": "1.5.0",
            "_model_name": "DescriptionStyleModel",
            "_view_count": null,
            "_view_module": "@jupyter-widgets/base",
            "_view_module_version": "1.2.0",
            "_view_name": "StyleView",
            "description_width": ""
          }
        },
        "5154980b54e64e29b6cba125bd6deae5": {
          "model_module": "@jupyter-widgets/controls",
          "model_name": "HBoxModel",
          "model_module_version": "1.5.0",
          "state": {
            "_dom_classes": [],
            "_model_module": "@jupyter-widgets/controls",
            "_model_module_version": "1.5.0",
            "_model_name": "HBoxModel",
            "_view_count": null,
            "_view_module": "@jupyter-widgets/controls",
            "_view_module_version": "1.5.0",
            "_view_name": "HBoxView",
            "box_style": "",
            "children": [
              "IPY_MODEL_841b3afe163a4fe2b213f9a0a1bae4bc",
              "IPY_MODEL_c7dc46b442914d46bf22593f49958bd8",
              "IPY_MODEL_4aab9bf3873047b2a58083a7cf44862e"
            ],
            "layout": "IPY_MODEL_7ea6d7bd9d0a448081204926cb20994d"
          }
        },
        "841b3afe163a4fe2b213f9a0a1bae4bc": {
          "model_module": "@jupyter-widgets/controls",
          "model_name": "HTMLModel",
          "model_module_version": "1.5.0",
          "state": {
            "_dom_classes": [],
            "_model_module": "@jupyter-widgets/controls",
            "_model_module_version": "1.5.0",
            "_model_name": "HTMLModel",
            "_view_count": null,
            "_view_module": "@jupyter-widgets/controls",
            "_view_module_version": "1.5.0",
            "_view_name": "HTMLView",
            "description": "",
            "description_tooltip": null,
            "layout": "IPY_MODEL_cd409975caf64f91a92b5f2f10bf98a9",
            "placeholder": "​",
            "style": "IPY_MODEL_c451e8845fee4420b8adc362a3462da9",
            "value": "Validation DataLoader 0: 100%"
          }
        },
        "c7dc46b442914d46bf22593f49958bd8": {
          "model_module": "@jupyter-widgets/controls",
          "model_name": "FloatProgressModel",
          "model_module_version": "1.5.0",
          "state": {
            "_dom_classes": [],
            "_model_module": "@jupyter-widgets/controls",
            "_model_module_version": "1.5.0",
            "_model_name": "FloatProgressModel",
            "_view_count": null,
            "_view_module": "@jupyter-widgets/controls",
            "_view_module_version": "1.5.0",
            "_view_name": "ProgressView",
            "bar_style": "",
            "description": "",
            "description_tooltip": null,
            "layout": "IPY_MODEL_6978a35eaef1448482c7b49b0f358dfe",
            "max": 99,
            "min": 0,
            "orientation": "horizontal",
            "style": "IPY_MODEL_e77e00013934471fa3f11fb70669a550",
            "value": 99
          }
        },
        "4aab9bf3873047b2a58083a7cf44862e": {
          "model_module": "@jupyter-widgets/controls",
          "model_name": "HTMLModel",
          "model_module_version": "1.5.0",
          "state": {
            "_dom_classes": [],
            "_model_module": "@jupyter-widgets/controls",
            "_model_module_version": "1.5.0",
            "_model_name": "HTMLModel",
            "_view_count": null,
            "_view_module": "@jupyter-widgets/controls",
            "_view_module_version": "1.5.0",
            "_view_name": "HTMLView",
            "description": "",
            "description_tooltip": null,
            "layout": "IPY_MODEL_908ce36b097443068ac14c3ea3ada1d5",
            "placeholder": "​",
            "style": "IPY_MODEL_2c74a7788bed45ca878d135eb6e90215",
            "value": " 99/99 [00:16&lt;00:00,  5.84it/s]"
          }
        },
        "7ea6d7bd9d0a448081204926cb20994d": {
          "model_module": "@jupyter-widgets/base",
          "model_name": "LayoutModel",
          "model_module_version": "1.2.0",
          "state": {
            "_model_module": "@jupyter-widgets/base",
            "_model_module_version": "1.2.0",
            "_model_name": "LayoutModel",
            "_view_count": null,
            "_view_module": "@jupyter-widgets/base",
            "_view_module_version": "1.2.0",
            "_view_name": "LayoutView",
            "align_content": null,
            "align_items": null,
            "align_self": null,
            "border": null,
            "bottom": null,
            "display": "inline-flex",
            "flex": null,
            "flex_flow": "row wrap",
            "grid_area": null,
            "grid_auto_columns": null,
            "grid_auto_flow": null,
            "grid_auto_rows": null,
            "grid_column": null,
            "grid_gap": null,
            "grid_row": null,
            "grid_template_areas": null,
            "grid_template_columns": null,
            "grid_template_rows": null,
            "height": null,
            "justify_content": null,
            "justify_items": null,
            "left": null,
            "margin": null,
            "max_height": null,
            "max_width": null,
            "min_height": null,
            "min_width": null,
            "object_fit": null,
            "object_position": null,
            "order": null,
            "overflow": null,
            "overflow_x": null,
            "overflow_y": null,
            "padding": null,
            "right": null,
            "top": null,
            "visibility": "hidden",
            "width": "100%"
          }
        },
        "cd409975caf64f91a92b5f2f10bf98a9": {
          "model_module": "@jupyter-widgets/base",
          "model_name": "LayoutModel",
          "model_module_version": "1.2.0",
          "state": {
            "_model_module": "@jupyter-widgets/base",
            "_model_module_version": "1.2.0",
            "_model_name": "LayoutModel",
            "_view_count": null,
            "_view_module": "@jupyter-widgets/base",
            "_view_module_version": "1.2.0",
            "_view_name": "LayoutView",
            "align_content": null,
            "align_items": null,
            "align_self": null,
            "border": null,
            "bottom": null,
            "display": null,
            "flex": null,
            "flex_flow": null,
            "grid_area": null,
            "grid_auto_columns": null,
            "grid_auto_flow": null,
            "grid_auto_rows": null,
            "grid_column": null,
            "grid_gap": null,
            "grid_row": null,
            "grid_template_areas": null,
            "grid_template_columns": null,
            "grid_template_rows": null,
            "height": null,
            "justify_content": null,
            "justify_items": null,
            "left": null,
            "margin": null,
            "max_height": null,
            "max_width": null,
            "min_height": null,
            "min_width": null,
            "object_fit": null,
            "object_position": null,
            "order": null,
            "overflow": null,
            "overflow_x": null,
            "overflow_y": null,
            "padding": null,
            "right": null,
            "top": null,
            "visibility": null,
            "width": null
          }
        },
        "c451e8845fee4420b8adc362a3462da9": {
          "model_module": "@jupyter-widgets/controls",
          "model_name": "DescriptionStyleModel",
          "model_module_version": "1.5.0",
          "state": {
            "_model_module": "@jupyter-widgets/controls",
            "_model_module_version": "1.5.0",
            "_model_name": "DescriptionStyleModel",
            "_view_count": null,
            "_view_module": "@jupyter-widgets/base",
            "_view_module_version": "1.2.0",
            "_view_name": "StyleView",
            "description_width": ""
          }
        },
        "6978a35eaef1448482c7b49b0f358dfe": {
          "model_module": "@jupyter-widgets/base",
          "model_name": "LayoutModel",
          "model_module_version": "1.2.0",
          "state": {
            "_model_module": "@jupyter-widgets/base",
            "_model_module_version": "1.2.0",
            "_model_name": "LayoutModel",
            "_view_count": null,
            "_view_module": "@jupyter-widgets/base",
            "_view_module_version": "1.2.0",
            "_view_name": "LayoutView",
            "align_content": null,
            "align_items": null,
            "align_self": null,
            "border": null,
            "bottom": null,
            "display": null,
            "flex": "2",
            "flex_flow": null,
            "grid_area": null,
            "grid_auto_columns": null,
            "grid_auto_flow": null,
            "grid_auto_rows": null,
            "grid_column": null,
            "grid_gap": null,
            "grid_row": null,
            "grid_template_areas": null,
            "grid_template_columns": null,
            "grid_template_rows": null,
            "height": null,
            "justify_content": null,
            "justify_items": null,
            "left": null,
            "margin": null,
            "max_height": null,
            "max_width": null,
            "min_height": null,
            "min_width": null,
            "object_fit": null,
            "object_position": null,
            "order": null,
            "overflow": null,
            "overflow_x": null,
            "overflow_y": null,
            "padding": null,
            "right": null,
            "top": null,
            "visibility": null,
            "width": null
          }
        },
        "e77e00013934471fa3f11fb70669a550": {
          "model_module": "@jupyter-widgets/controls",
          "model_name": "ProgressStyleModel",
          "model_module_version": "1.5.0",
          "state": {
            "_model_module": "@jupyter-widgets/controls",
            "_model_module_version": "1.5.0",
            "_model_name": "ProgressStyleModel",
            "_view_count": null,
            "_view_module": "@jupyter-widgets/base",
            "_view_module_version": "1.2.0",
            "_view_name": "StyleView",
            "bar_color": null,
            "description_width": ""
          }
        },
        "908ce36b097443068ac14c3ea3ada1d5": {
          "model_module": "@jupyter-widgets/base",
          "model_name": "LayoutModel",
          "model_module_version": "1.2.0",
          "state": {
            "_model_module": "@jupyter-widgets/base",
            "_model_module_version": "1.2.0",
            "_model_name": "LayoutModel",
            "_view_count": null,
            "_view_module": "@jupyter-widgets/base",
            "_view_module_version": "1.2.0",
            "_view_name": "LayoutView",
            "align_content": null,
            "align_items": null,
            "align_self": null,
            "border": null,
            "bottom": null,
            "display": null,
            "flex": null,
            "flex_flow": null,
            "grid_area": null,
            "grid_auto_columns": null,
            "grid_auto_flow": null,
            "grid_auto_rows": null,
            "grid_column": null,
            "grid_gap": null,
            "grid_row": null,
            "grid_template_areas": null,
            "grid_template_columns": null,
            "grid_template_rows": null,
            "height": null,
            "justify_content": null,
            "justify_items": null,
            "left": null,
            "margin": null,
            "max_height": null,
            "max_width": null,
            "min_height": null,
            "min_width": null,
            "object_fit": null,
            "object_position": null,
            "order": null,
            "overflow": null,
            "overflow_x": null,
            "overflow_y": null,
            "padding": null,
            "right": null,
            "top": null,
            "visibility": null,
            "width": null
          }
        },
        "2c74a7788bed45ca878d135eb6e90215": {
          "model_module": "@jupyter-widgets/controls",
          "model_name": "DescriptionStyleModel",
          "model_module_version": "1.5.0",
          "state": {
            "_model_module": "@jupyter-widgets/controls",
            "_model_module_version": "1.5.0",
            "_model_name": "DescriptionStyleModel",
            "_view_count": null,
            "_view_module": "@jupyter-widgets/base",
            "_view_module_version": "1.2.0",
            "_view_name": "StyleView",
            "description_width": ""
          }
        },
        "dab98f41b7da4bbdb544a853756dee5b": {
          "model_module": "@jupyter-widgets/controls",
          "model_name": "HBoxModel",
          "model_module_version": "1.5.0",
          "state": {
            "_dom_classes": [],
            "_model_module": "@jupyter-widgets/controls",
            "_model_module_version": "1.5.0",
            "_model_name": "HBoxModel",
            "_view_count": null,
            "_view_module": "@jupyter-widgets/controls",
            "_view_module_version": "1.5.0",
            "_view_name": "HBoxView",
            "box_style": "",
            "children": [
              "IPY_MODEL_c02758e7f6fd4f58a16c074ade6db2d5",
              "IPY_MODEL_fbae5abf40464aaba98a0734f94c703f",
              "IPY_MODEL_37cae443f4cf479fa727d5cd8a84fe03"
            ],
            "layout": "IPY_MODEL_07e1ee93907f4990817943e6aab0d3da"
          }
        },
        "c02758e7f6fd4f58a16c074ade6db2d5": {
          "model_module": "@jupyter-widgets/controls",
          "model_name": "HTMLModel",
          "model_module_version": "1.5.0",
          "state": {
            "_dom_classes": [],
            "_model_module": "@jupyter-widgets/controls",
            "_model_module_version": "1.5.0",
            "_model_name": "HTMLModel",
            "_view_count": null,
            "_view_module": "@jupyter-widgets/controls",
            "_view_module_version": "1.5.0",
            "_view_name": "HTMLView",
            "description": "",
            "description_tooltip": null,
            "layout": "IPY_MODEL_8486aab4a2e348dfae01c344f75bac96",
            "placeholder": "​",
            "style": "IPY_MODEL_aa59cc9aba984460b4579c32fa0b6b6e",
            "value": "Validation DataLoader 0: 100%"
          }
        },
        "fbae5abf40464aaba98a0734f94c703f": {
          "model_module": "@jupyter-widgets/controls",
          "model_name": "FloatProgressModel",
          "model_module_version": "1.5.0",
          "state": {
            "_dom_classes": [],
            "_model_module": "@jupyter-widgets/controls",
            "_model_module_version": "1.5.0",
            "_model_name": "FloatProgressModel",
            "_view_count": null,
            "_view_module": "@jupyter-widgets/controls",
            "_view_module_version": "1.5.0",
            "_view_name": "ProgressView",
            "bar_style": "success",
            "description": "",
            "description_tooltip": null,
            "layout": "IPY_MODEL_a0233328fc5742e68a1bd2405eaa1ddf",
            "max": 99,
            "min": 0,
            "orientation": "horizontal",
            "style": "IPY_MODEL_f4f36b7296c546e584fc3f9f1bbe9730",
            "value": 99
          }
        },
        "37cae443f4cf479fa727d5cd8a84fe03": {
          "model_module": "@jupyter-widgets/controls",
          "model_name": "HTMLModel",
          "model_module_version": "1.5.0",
          "state": {
            "_dom_classes": [],
            "_model_module": "@jupyter-widgets/controls",
            "_model_module_version": "1.5.0",
            "_model_name": "HTMLModel",
            "_view_count": null,
            "_view_module": "@jupyter-widgets/controls",
            "_view_module_version": "1.5.0",
            "_view_name": "HTMLView",
            "description": "",
            "description_tooltip": null,
            "layout": "IPY_MODEL_c74d6cd5978e47a6aabb41d89a2dc808",
            "placeholder": "​",
            "style": "IPY_MODEL_3da7ce6f047145739dad5ee6338d164a",
            "value": " 99/99 [00:17&lt;00:00,  5.82it/s]"
          }
        },
        "07e1ee93907f4990817943e6aab0d3da": {
          "model_module": "@jupyter-widgets/base",
          "model_name": "LayoutModel",
          "model_module_version": "1.2.0",
          "state": {
            "_model_module": "@jupyter-widgets/base",
            "_model_module_version": "1.2.0",
            "_model_name": "LayoutModel",
            "_view_count": null,
            "_view_module": "@jupyter-widgets/base",
            "_view_module_version": "1.2.0",
            "_view_name": "LayoutView",
            "align_content": null,
            "align_items": null,
            "align_self": null,
            "border": null,
            "bottom": null,
            "display": "inline-flex",
            "flex": null,
            "flex_flow": "row wrap",
            "grid_area": null,
            "grid_auto_columns": null,
            "grid_auto_flow": null,
            "grid_auto_rows": null,
            "grid_column": null,
            "grid_gap": null,
            "grid_row": null,
            "grid_template_areas": null,
            "grid_template_columns": null,
            "grid_template_rows": null,
            "height": null,
            "justify_content": null,
            "justify_items": null,
            "left": null,
            "margin": null,
            "max_height": null,
            "max_width": null,
            "min_height": null,
            "min_width": null,
            "object_fit": null,
            "object_position": null,
            "order": null,
            "overflow": null,
            "overflow_x": null,
            "overflow_y": null,
            "padding": null,
            "right": null,
            "top": null,
            "visibility": null,
            "width": "100%"
          }
        },
        "8486aab4a2e348dfae01c344f75bac96": {
          "model_module": "@jupyter-widgets/base",
          "model_name": "LayoutModel",
          "model_module_version": "1.2.0",
          "state": {
            "_model_module": "@jupyter-widgets/base",
            "_model_module_version": "1.2.0",
            "_model_name": "LayoutModel",
            "_view_count": null,
            "_view_module": "@jupyter-widgets/base",
            "_view_module_version": "1.2.0",
            "_view_name": "LayoutView",
            "align_content": null,
            "align_items": null,
            "align_self": null,
            "border": null,
            "bottom": null,
            "display": null,
            "flex": null,
            "flex_flow": null,
            "grid_area": null,
            "grid_auto_columns": null,
            "grid_auto_flow": null,
            "grid_auto_rows": null,
            "grid_column": null,
            "grid_gap": null,
            "grid_row": null,
            "grid_template_areas": null,
            "grid_template_columns": null,
            "grid_template_rows": null,
            "height": null,
            "justify_content": null,
            "justify_items": null,
            "left": null,
            "margin": null,
            "max_height": null,
            "max_width": null,
            "min_height": null,
            "min_width": null,
            "object_fit": null,
            "object_position": null,
            "order": null,
            "overflow": null,
            "overflow_x": null,
            "overflow_y": null,
            "padding": null,
            "right": null,
            "top": null,
            "visibility": null,
            "width": null
          }
        },
        "aa59cc9aba984460b4579c32fa0b6b6e": {
          "model_module": "@jupyter-widgets/controls",
          "model_name": "DescriptionStyleModel",
          "model_module_version": "1.5.0",
          "state": {
            "_model_module": "@jupyter-widgets/controls",
            "_model_module_version": "1.5.0",
            "_model_name": "DescriptionStyleModel",
            "_view_count": null,
            "_view_module": "@jupyter-widgets/base",
            "_view_module_version": "1.2.0",
            "_view_name": "StyleView",
            "description_width": ""
          }
        },
        "a0233328fc5742e68a1bd2405eaa1ddf": {
          "model_module": "@jupyter-widgets/base",
          "model_name": "LayoutModel",
          "model_module_version": "1.2.0",
          "state": {
            "_model_module": "@jupyter-widgets/base",
            "_model_module_version": "1.2.0",
            "_model_name": "LayoutModel",
            "_view_count": null,
            "_view_module": "@jupyter-widgets/base",
            "_view_module_version": "1.2.0",
            "_view_name": "LayoutView",
            "align_content": null,
            "align_items": null,
            "align_self": null,
            "border": null,
            "bottom": null,
            "display": null,
            "flex": "2",
            "flex_flow": null,
            "grid_area": null,
            "grid_auto_columns": null,
            "grid_auto_flow": null,
            "grid_auto_rows": null,
            "grid_column": null,
            "grid_gap": null,
            "grid_row": null,
            "grid_template_areas": null,
            "grid_template_columns": null,
            "grid_template_rows": null,
            "height": null,
            "justify_content": null,
            "justify_items": null,
            "left": null,
            "margin": null,
            "max_height": null,
            "max_width": null,
            "min_height": null,
            "min_width": null,
            "object_fit": null,
            "object_position": null,
            "order": null,
            "overflow": null,
            "overflow_x": null,
            "overflow_y": null,
            "padding": null,
            "right": null,
            "top": null,
            "visibility": null,
            "width": null
          }
        },
        "f4f36b7296c546e584fc3f9f1bbe9730": {
          "model_module": "@jupyter-widgets/controls",
          "model_name": "ProgressStyleModel",
          "model_module_version": "1.5.0",
          "state": {
            "_model_module": "@jupyter-widgets/controls",
            "_model_module_version": "1.5.0",
            "_model_name": "ProgressStyleModel",
            "_view_count": null,
            "_view_module": "@jupyter-widgets/base",
            "_view_module_version": "1.2.0",
            "_view_name": "StyleView",
            "bar_color": null,
            "description_width": ""
          }
        },
        "c74d6cd5978e47a6aabb41d89a2dc808": {
          "model_module": "@jupyter-widgets/base",
          "model_name": "LayoutModel",
          "model_module_version": "1.2.0",
          "state": {
            "_model_module": "@jupyter-widgets/base",
            "_model_module_version": "1.2.0",
            "_model_name": "LayoutModel",
            "_view_count": null,
            "_view_module": "@jupyter-widgets/base",
            "_view_module_version": "1.2.0",
            "_view_name": "LayoutView",
            "align_content": null,
            "align_items": null,
            "align_self": null,
            "border": null,
            "bottom": null,
            "display": null,
            "flex": null,
            "flex_flow": null,
            "grid_area": null,
            "grid_auto_columns": null,
            "grid_auto_flow": null,
            "grid_auto_rows": null,
            "grid_column": null,
            "grid_gap": null,
            "grid_row": null,
            "grid_template_areas": null,
            "grid_template_columns": null,
            "grid_template_rows": null,
            "height": null,
            "justify_content": null,
            "justify_items": null,
            "left": null,
            "margin": null,
            "max_height": null,
            "max_width": null,
            "min_height": null,
            "min_width": null,
            "object_fit": null,
            "object_position": null,
            "order": null,
            "overflow": null,
            "overflow_x": null,
            "overflow_y": null,
            "padding": null,
            "right": null,
            "top": null,
            "visibility": null,
            "width": null
          }
        },
        "3da7ce6f047145739dad5ee6338d164a": {
          "model_module": "@jupyter-widgets/controls",
          "model_name": "DescriptionStyleModel",
          "model_module_version": "1.5.0",
          "state": {
            "_model_module": "@jupyter-widgets/controls",
            "_model_module_version": "1.5.0",
            "_model_name": "DescriptionStyleModel",
            "_view_count": null,
            "_view_module": "@jupyter-widgets/base",
            "_view_module_version": "1.2.0",
            "_view_name": "StyleView",
            "description_width": ""
          }
        },
        "ad9efe1380994afd9b5f95dbf93a07a0": {
          "model_module": "@jupyter-widgets/controls",
          "model_name": "HBoxModel",
          "model_module_version": "1.5.0",
          "state": {
            "_dom_classes": [],
            "_model_module": "@jupyter-widgets/controls",
            "_model_module_version": "1.5.0",
            "_model_name": "HBoxModel",
            "_view_count": null,
            "_view_module": "@jupyter-widgets/controls",
            "_view_module_version": "1.5.0",
            "_view_name": "HBoxView",
            "box_style": "",
            "children": [
              "IPY_MODEL_324e8ae3e1f4408fa114d2bd84cc3cfc",
              "IPY_MODEL_1471494ea15c46bba3aab1c73f6c0d12",
              "IPY_MODEL_d6525feb4c5848669687cd6fc00869d3"
            ],
            "layout": "IPY_MODEL_c6e1b1711f9f4466ae565040c00da1ef"
          }
        },
        "324e8ae3e1f4408fa114d2bd84cc3cfc": {
          "model_module": "@jupyter-widgets/controls",
          "model_name": "HTMLModel",
          "model_module_version": "1.5.0",
          "state": {
            "_dom_classes": [],
            "_model_module": "@jupyter-widgets/controls",
            "_model_module_version": "1.5.0",
            "_model_name": "HTMLModel",
            "_view_count": null,
            "_view_module": "@jupyter-widgets/controls",
            "_view_module_version": "1.5.0",
            "_view_name": "HTMLView",
            "description": "",
            "description_tooltip": null,
            "layout": "IPY_MODEL_f6428cf8d3d04e42a406246c96c07a15",
            "placeholder": "​",
            "style": "IPY_MODEL_0a5d5f5f03894ba29d40a143214509cc",
            "value": "Sanity Checking DataLoader 0: 100%"
          }
        },
        "1471494ea15c46bba3aab1c73f6c0d12": {
          "model_module": "@jupyter-widgets/controls",
          "model_name": "FloatProgressModel",
          "model_module_version": "1.5.0",
          "state": {
            "_dom_classes": [],
            "_model_module": "@jupyter-widgets/controls",
            "_model_module_version": "1.5.0",
            "_model_name": "FloatProgressModel",
            "_view_count": null,
            "_view_module": "@jupyter-widgets/controls",
            "_view_module_version": "1.5.0",
            "_view_name": "ProgressView",
            "bar_style": "",
            "description": "",
            "description_tooltip": null,
            "layout": "IPY_MODEL_c367cade740b4092a812e90d5f833f94",
            "max": 2,
            "min": 0,
            "orientation": "horizontal",
            "style": "IPY_MODEL_a8dad1689ac74f4894ef590912b735a5",
            "value": 2
          }
        },
        "d6525feb4c5848669687cd6fc00869d3": {
          "model_module": "@jupyter-widgets/controls",
          "model_name": "HTMLModel",
          "model_module_version": "1.5.0",
          "state": {
            "_dom_classes": [],
            "_model_module": "@jupyter-widgets/controls",
            "_model_module_version": "1.5.0",
            "_model_name": "HTMLModel",
            "_view_count": null,
            "_view_module": "@jupyter-widgets/controls",
            "_view_module_version": "1.5.0",
            "_view_name": "HTMLView",
            "description": "",
            "description_tooltip": null,
            "layout": "IPY_MODEL_e80029497c99444c8fd6548cf377a412",
            "placeholder": "​",
            "style": "IPY_MODEL_f925716c0ebd46b384801b1c3b51a7fe",
            "value": " 2/2 [00:00&lt;00:00,  4.99it/s]"
          }
        },
        "c6e1b1711f9f4466ae565040c00da1ef": {
          "model_module": "@jupyter-widgets/base",
          "model_name": "LayoutModel",
          "model_module_version": "1.2.0",
          "state": {
            "_model_module": "@jupyter-widgets/base",
            "_model_module_version": "1.2.0",
            "_model_name": "LayoutModel",
            "_view_count": null,
            "_view_module": "@jupyter-widgets/base",
            "_view_module_version": "1.2.0",
            "_view_name": "LayoutView",
            "align_content": null,
            "align_items": null,
            "align_self": null,
            "border": null,
            "bottom": null,
            "display": "inline-flex",
            "flex": null,
            "flex_flow": "row wrap",
            "grid_area": null,
            "grid_auto_columns": null,
            "grid_auto_flow": null,
            "grid_auto_rows": null,
            "grid_column": null,
            "grid_gap": null,
            "grid_row": null,
            "grid_template_areas": null,
            "grid_template_columns": null,
            "grid_template_rows": null,
            "height": null,
            "justify_content": null,
            "justify_items": null,
            "left": null,
            "margin": null,
            "max_height": null,
            "max_width": null,
            "min_height": null,
            "min_width": null,
            "object_fit": null,
            "object_position": null,
            "order": null,
            "overflow": null,
            "overflow_x": null,
            "overflow_y": null,
            "padding": null,
            "right": null,
            "top": null,
            "visibility": "hidden",
            "width": "100%"
          }
        },
        "f6428cf8d3d04e42a406246c96c07a15": {
          "model_module": "@jupyter-widgets/base",
          "model_name": "LayoutModel",
          "model_module_version": "1.2.0",
          "state": {
            "_model_module": "@jupyter-widgets/base",
            "_model_module_version": "1.2.0",
            "_model_name": "LayoutModel",
            "_view_count": null,
            "_view_module": "@jupyter-widgets/base",
            "_view_module_version": "1.2.0",
            "_view_name": "LayoutView",
            "align_content": null,
            "align_items": null,
            "align_self": null,
            "border": null,
            "bottom": null,
            "display": null,
            "flex": null,
            "flex_flow": null,
            "grid_area": null,
            "grid_auto_columns": null,
            "grid_auto_flow": null,
            "grid_auto_rows": null,
            "grid_column": null,
            "grid_gap": null,
            "grid_row": null,
            "grid_template_areas": null,
            "grid_template_columns": null,
            "grid_template_rows": null,
            "height": null,
            "justify_content": null,
            "justify_items": null,
            "left": null,
            "margin": null,
            "max_height": null,
            "max_width": null,
            "min_height": null,
            "min_width": null,
            "object_fit": null,
            "object_position": null,
            "order": null,
            "overflow": null,
            "overflow_x": null,
            "overflow_y": null,
            "padding": null,
            "right": null,
            "top": null,
            "visibility": null,
            "width": null
          }
        },
        "0a5d5f5f03894ba29d40a143214509cc": {
          "model_module": "@jupyter-widgets/controls",
          "model_name": "DescriptionStyleModel",
          "model_module_version": "1.5.0",
          "state": {
            "_model_module": "@jupyter-widgets/controls",
            "_model_module_version": "1.5.0",
            "_model_name": "DescriptionStyleModel",
            "_view_count": null,
            "_view_module": "@jupyter-widgets/base",
            "_view_module_version": "1.2.0",
            "_view_name": "StyleView",
            "description_width": ""
          }
        },
        "c367cade740b4092a812e90d5f833f94": {
          "model_module": "@jupyter-widgets/base",
          "model_name": "LayoutModel",
          "model_module_version": "1.2.0",
          "state": {
            "_model_module": "@jupyter-widgets/base",
            "_model_module_version": "1.2.0",
            "_model_name": "LayoutModel",
            "_view_count": null,
            "_view_module": "@jupyter-widgets/base",
            "_view_module_version": "1.2.0",
            "_view_name": "LayoutView",
            "align_content": null,
            "align_items": null,
            "align_self": null,
            "border": null,
            "bottom": null,
            "display": null,
            "flex": "2",
            "flex_flow": null,
            "grid_area": null,
            "grid_auto_columns": null,
            "grid_auto_flow": null,
            "grid_auto_rows": null,
            "grid_column": null,
            "grid_gap": null,
            "grid_row": null,
            "grid_template_areas": null,
            "grid_template_columns": null,
            "grid_template_rows": null,
            "height": null,
            "justify_content": null,
            "justify_items": null,
            "left": null,
            "margin": null,
            "max_height": null,
            "max_width": null,
            "min_height": null,
            "min_width": null,
            "object_fit": null,
            "object_position": null,
            "order": null,
            "overflow": null,
            "overflow_x": null,
            "overflow_y": null,
            "padding": null,
            "right": null,
            "top": null,
            "visibility": null,
            "width": null
          }
        },
        "a8dad1689ac74f4894ef590912b735a5": {
          "model_module": "@jupyter-widgets/controls",
          "model_name": "ProgressStyleModel",
          "model_module_version": "1.5.0",
          "state": {
            "_model_module": "@jupyter-widgets/controls",
            "_model_module_version": "1.5.0",
            "_model_name": "ProgressStyleModel",
            "_view_count": null,
            "_view_module": "@jupyter-widgets/base",
            "_view_module_version": "1.2.0",
            "_view_name": "StyleView",
            "bar_color": null,
            "description_width": ""
          }
        },
        "e80029497c99444c8fd6548cf377a412": {
          "model_module": "@jupyter-widgets/base",
          "model_name": "LayoutModel",
          "model_module_version": "1.2.0",
          "state": {
            "_model_module": "@jupyter-widgets/base",
            "_model_module_version": "1.2.0",
            "_model_name": "LayoutModel",
            "_view_count": null,
            "_view_module": "@jupyter-widgets/base",
            "_view_module_version": "1.2.0",
            "_view_name": "LayoutView",
            "align_content": null,
            "align_items": null,
            "align_self": null,
            "border": null,
            "bottom": null,
            "display": null,
            "flex": null,
            "flex_flow": null,
            "grid_area": null,
            "grid_auto_columns": null,
            "grid_auto_flow": null,
            "grid_auto_rows": null,
            "grid_column": null,
            "grid_gap": null,
            "grid_row": null,
            "grid_template_areas": null,
            "grid_template_columns": null,
            "grid_template_rows": null,
            "height": null,
            "justify_content": null,
            "justify_items": null,
            "left": null,
            "margin": null,
            "max_height": null,
            "max_width": null,
            "min_height": null,
            "min_width": null,
            "object_fit": null,
            "object_position": null,
            "order": null,
            "overflow": null,
            "overflow_x": null,
            "overflow_y": null,
            "padding": null,
            "right": null,
            "top": null,
            "visibility": null,
            "width": null
          }
        },
        "f925716c0ebd46b384801b1c3b51a7fe": {
          "model_module": "@jupyter-widgets/controls",
          "model_name": "DescriptionStyleModel",
          "model_module_version": "1.5.0",
          "state": {
            "_model_module": "@jupyter-widgets/controls",
            "_model_module_version": "1.5.0",
            "_model_name": "DescriptionStyleModel",
            "_view_count": null,
            "_view_module": "@jupyter-widgets/base",
            "_view_module_version": "1.2.0",
            "_view_name": "StyleView",
            "description_width": ""
          }
        },
        "c926b1e5d50640ea884be4936b92df3f": {
          "model_module": "@jupyter-widgets/controls",
          "model_name": "HBoxModel",
          "model_module_version": "1.5.0",
          "state": {
            "_dom_classes": [],
            "_model_module": "@jupyter-widgets/controls",
            "_model_module_version": "1.5.0",
            "_model_name": "HBoxModel",
            "_view_count": null,
            "_view_module": "@jupyter-widgets/controls",
            "_view_module_version": "1.5.0",
            "_view_name": "HBoxView",
            "box_style": "",
            "children": [
              "IPY_MODEL_95e31b11c8d844d39c607c0092dd0cc0",
              "IPY_MODEL_dfd1f81858134f8b9e8b0548b6c168e8",
              "IPY_MODEL_f59af3c6fd334cada26358c74ce48c76"
            ],
            "layout": "IPY_MODEL_8390c88cc6f84c32a92a44c15e41dcdc"
          }
        },
        "95e31b11c8d844d39c607c0092dd0cc0": {
          "model_module": "@jupyter-widgets/controls",
          "model_name": "HTMLModel",
          "model_module_version": "1.5.0",
          "state": {
            "_dom_classes": [],
            "_model_module": "@jupyter-widgets/controls",
            "_model_module_version": "1.5.0",
            "_model_name": "HTMLModel",
            "_view_count": null,
            "_view_module": "@jupyter-widgets/controls",
            "_view_module_version": "1.5.0",
            "_view_name": "HTMLView",
            "description": "",
            "description_tooltip": null,
            "layout": "IPY_MODEL_afd8f5a75e4842398347c89e749089d7",
            "placeholder": "​",
            "style": "IPY_MODEL_1c728976d9414027a46866fe2a5fb94e",
            "value": "Epoch 0:   0%"
          }
        },
        "dfd1f81858134f8b9e8b0548b6c168e8": {
          "model_module": "@jupyter-widgets/controls",
          "model_name": "FloatProgressModel",
          "model_module_version": "1.5.0",
          "state": {
            "_dom_classes": [],
            "_model_module": "@jupyter-widgets/controls",
            "_model_module_version": "1.5.0",
            "_model_name": "FloatProgressModel",
            "_view_count": null,
            "_view_module": "@jupyter-widgets/controls",
            "_view_module_version": "1.5.0",
            "_view_name": "ProgressView",
            "bar_style": "",
            "description": "",
            "description_tooltip": null,
            "layout": "IPY_MODEL_8a9688f8c2ff4533a0ad9dfc72529e27",
            "max": 396,
            "min": 0,
            "orientation": "horizontal",
            "style": "IPY_MODEL_6fbbd1d2d49745ea84b05615db90432a",
            "value": 0
          }
        },
        "f59af3c6fd334cada26358c74ce48c76": {
          "model_module": "@jupyter-widgets/controls",
          "model_name": "HTMLModel",
          "model_module_version": "1.5.0",
          "state": {
            "_dom_classes": [],
            "_model_module": "@jupyter-widgets/controls",
            "_model_module_version": "1.5.0",
            "_model_name": "HTMLModel",
            "_view_count": null,
            "_view_module": "@jupyter-widgets/controls",
            "_view_module_version": "1.5.0",
            "_view_name": "HTMLView",
            "description": "",
            "description_tooltip": null,
            "layout": "IPY_MODEL_64e2d1b28c244c3bb22bc20b738fa5e4",
            "placeholder": "​",
            "style": "IPY_MODEL_53e7ad8823af4c5d903e43eade44a025",
            "value": " 0/396 [00:00&lt;?, ?it/s]"
          }
        },
        "8390c88cc6f84c32a92a44c15e41dcdc": {
          "model_module": "@jupyter-widgets/base",
          "model_name": "LayoutModel",
          "model_module_version": "1.2.0",
          "state": {
            "_model_module": "@jupyter-widgets/base",
            "_model_module_version": "1.2.0",
            "_model_name": "LayoutModel",
            "_view_count": null,
            "_view_module": "@jupyter-widgets/base",
            "_view_module_version": "1.2.0",
            "_view_name": "LayoutView",
            "align_content": null,
            "align_items": null,
            "align_self": null,
            "border": null,
            "bottom": null,
            "display": "inline-flex",
            "flex": null,
            "flex_flow": "row wrap",
            "grid_area": null,
            "grid_auto_columns": null,
            "grid_auto_flow": null,
            "grid_auto_rows": null,
            "grid_column": null,
            "grid_gap": null,
            "grid_row": null,
            "grid_template_areas": null,
            "grid_template_columns": null,
            "grid_template_rows": null,
            "height": null,
            "justify_content": null,
            "justify_items": null,
            "left": null,
            "margin": null,
            "max_height": null,
            "max_width": null,
            "min_height": null,
            "min_width": null,
            "object_fit": null,
            "object_position": null,
            "order": null,
            "overflow": null,
            "overflow_x": null,
            "overflow_y": null,
            "padding": null,
            "right": null,
            "top": null,
            "visibility": null,
            "width": "100%"
          }
        },
        "afd8f5a75e4842398347c89e749089d7": {
          "model_module": "@jupyter-widgets/base",
          "model_name": "LayoutModel",
          "model_module_version": "1.2.0",
          "state": {
            "_model_module": "@jupyter-widgets/base",
            "_model_module_version": "1.2.0",
            "_model_name": "LayoutModel",
            "_view_count": null,
            "_view_module": "@jupyter-widgets/base",
            "_view_module_version": "1.2.0",
            "_view_name": "LayoutView",
            "align_content": null,
            "align_items": null,
            "align_self": null,
            "border": null,
            "bottom": null,
            "display": null,
            "flex": null,
            "flex_flow": null,
            "grid_area": null,
            "grid_auto_columns": null,
            "grid_auto_flow": null,
            "grid_auto_rows": null,
            "grid_column": null,
            "grid_gap": null,
            "grid_row": null,
            "grid_template_areas": null,
            "grid_template_columns": null,
            "grid_template_rows": null,
            "height": null,
            "justify_content": null,
            "justify_items": null,
            "left": null,
            "margin": null,
            "max_height": null,
            "max_width": null,
            "min_height": null,
            "min_width": null,
            "object_fit": null,
            "object_position": null,
            "order": null,
            "overflow": null,
            "overflow_x": null,
            "overflow_y": null,
            "padding": null,
            "right": null,
            "top": null,
            "visibility": null,
            "width": null
          }
        },
        "1c728976d9414027a46866fe2a5fb94e": {
          "model_module": "@jupyter-widgets/controls",
          "model_name": "DescriptionStyleModel",
          "model_module_version": "1.5.0",
          "state": {
            "_model_module": "@jupyter-widgets/controls",
            "_model_module_version": "1.5.0",
            "_model_name": "DescriptionStyleModel",
            "_view_count": null,
            "_view_module": "@jupyter-widgets/base",
            "_view_module_version": "1.2.0",
            "_view_name": "StyleView",
            "description_width": ""
          }
        },
        "8a9688f8c2ff4533a0ad9dfc72529e27": {
          "model_module": "@jupyter-widgets/base",
          "model_name": "LayoutModel",
          "model_module_version": "1.2.0",
          "state": {
            "_model_module": "@jupyter-widgets/base",
            "_model_module_version": "1.2.0",
            "_model_name": "LayoutModel",
            "_view_count": null,
            "_view_module": "@jupyter-widgets/base",
            "_view_module_version": "1.2.0",
            "_view_name": "LayoutView",
            "align_content": null,
            "align_items": null,
            "align_self": null,
            "border": null,
            "bottom": null,
            "display": null,
            "flex": "2",
            "flex_flow": null,
            "grid_area": null,
            "grid_auto_columns": null,
            "grid_auto_flow": null,
            "grid_auto_rows": null,
            "grid_column": null,
            "grid_gap": null,
            "grid_row": null,
            "grid_template_areas": null,
            "grid_template_columns": null,
            "grid_template_rows": null,
            "height": null,
            "justify_content": null,
            "justify_items": null,
            "left": null,
            "margin": null,
            "max_height": null,
            "max_width": null,
            "min_height": null,
            "min_width": null,
            "object_fit": null,
            "object_position": null,
            "order": null,
            "overflow": null,
            "overflow_x": null,
            "overflow_y": null,
            "padding": null,
            "right": null,
            "top": null,
            "visibility": null,
            "width": null
          }
        },
        "6fbbd1d2d49745ea84b05615db90432a": {
          "model_module": "@jupyter-widgets/controls",
          "model_name": "ProgressStyleModel",
          "model_module_version": "1.5.0",
          "state": {
            "_model_module": "@jupyter-widgets/controls",
            "_model_module_version": "1.5.0",
            "_model_name": "ProgressStyleModel",
            "_view_count": null,
            "_view_module": "@jupyter-widgets/base",
            "_view_module_version": "1.2.0",
            "_view_name": "StyleView",
            "bar_color": null,
            "description_width": ""
          }
        },
        "64e2d1b28c244c3bb22bc20b738fa5e4": {
          "model_module": "@jupyter-widgets/base",
          "model_name": "LayoutModel",
          "model_module_version": "1.2.0",
          "state": {
            "_model_module": "@jupyter-widgets/base",
            "_model_module_version": "1.2.0",
            "_model_name": "LayoutModel",
            "_view_count": null,
            "_view_module": "@jupyter-widgets/base",
            "_view_module_version": "1.2.0",
            "_view_name": "LayoutView",
            "align_content": null,
            "align_items": null,
            "align_self": null,
            "border": null,
            "bottom": null,
            "display": null,
            "flex": null,
            "flex_flow": null,
            "grid_area": null,
            "grid_auto_columns": null,
            "grid_auto_flow": null,
            "grid_auto_rows": null,
            "grid_column": null,
            "grid_gap": null,
            "grid_row": null,
            "grid_template_areas": null,
            "grid_template_columns": null,
            "grid_template_rows": null,
            "height": null,
            "justify_content": null,
            "justify_items": null,
            "left": null,
            "margin": null,
            "max_height": null,
            "max_width": null,
            "min_height": null,
            "min_width": null,
            "object_fit": null,
            "object_position": null,
            "order": null,
            "overflow": null,
            "overflow_x": null,
            "overflow_y": null,
            "padding": null,
            "right": null,
            "top": null,
            "visibility": null,
            "width": null
          }
        },
        "53e7ad8823af4c5d903e43eade44a025": {
          "model_module": "@jupyter-widgets/controls",
          "model_name": "DescriptionStyleModel",
          "model_module_version": "1.5.0",
          "state": {
            "_model_module": "@jupyter-widgets/controls",
            "_model_module_version": "1.5.0",
            "_model_name": "DescriptionStyleModel",
            "_view_count": null,
            "_view_module": "@jupyter-widgets/base",
            "_view_module_version": "1.2.0",
            "_view_name": "StyleView",
            "description_width": ""
          }
        }
      }
    }
  },
  "nbformat": 4,
  "nbformat_minor": 5
}